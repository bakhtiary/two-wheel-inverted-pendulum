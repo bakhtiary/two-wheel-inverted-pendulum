{
 "cells": [
  {
   "cell_type": "code",
   "execution_count": 5,
   "id": "c88bdc1b",
   "metadata": {},
   "outputs": [
    {
     "data": {
      "text/plain": [
       "b'Hello World!'"
      ]
     },
     "execution_count": 5,
     "metadata": {},
     "output_type": "execute_result"
    }
   ],
   "source": [
    ">>> import moderngl\n",
    ">>> ctx = moderngl.create_standalone_context()\n",
    ">>> buf = ctx.buffer(b'Hello World!')  # allocated on the GPU\n",
    ">>> buf.read()"
   ]
  },
  {
   "cell_type": "code",
   "execution_count": 3,
   "id": "c6834dde",
   "metadata": {},
   "outputs": [],
   "source": [
    "import moderngl_window as mglw\n",
    "from moderngl_window.scene.camera import KeyboardCamera, OrbitCamera\n",
    "\n",
    "\n",
    "class CameraWindow(mglw.WindowConfig):\n",
    "    \"\"\"Base class with built in 3D camera support\"\"\"\n",
    "\n",
    "    def __init__(self, **kwargs):\n",
    "        super().__init__(**kwargs)\n",
    "        self.camera = KeyboardCamera(self.wnd.keys, aspect_ratio=self.wnd.aspect_ratio)\n",
    "        self.camera_enabled = True\n",
    "\n",
    "    def key_event(self, key, action, modifiers):\n",
    "        keys = self.wnd.keys\n",
    "\n",
    "        if self.camera_enabled:\n",
    "            self.camera.key_input(key, action, modifiers)\n",
    "\n",
    "        if action == keys.ACTION_PRESS:\n",
    "            if key == keys.C:\n",
    "                self.camera_enabled = not self.camera_enabled\n",
    "                self.wnd.mouse_exclusivity = self.camera_enabled\n",
    "                self.wnd.cursor = not self.camera_enabled\n",
    "            if key == keys.SPACE:\n",
    "                self.timer.toggle_pause()\n",
    "\n",
    "    def mouse_position_event(self, x: int, y: int, dx, dy):\n",
    "        if self.camera_enabled:\n",
    "            self.camera.rot_state(-dx, -dy)\n",
    "\n",
    "    def resize(self, width: int, height: int):\n",
    "        self.camera.projection.update(aspect_ratio=self.wnd.aspect_ratio)\n",
    "\n",
    "\n",
    "class OrbitCameraWindow(mglw.WindowConfig):\n",
    "    \"\"\"Base class with built in 3D orbit camera support\"\"\"\n",
    "\n",
    "    def __init__(self, **kwargs):\n",
    "        super().__init__(**kwargs)\n",
    "        self.camera = OrbitCamera(aspect_ratio=self.wnd.aspect_ratio)\n",
    "        self.camera_enabled = True\n",
    "\n",
    "    def key_event(self, key, action, modifiers):\n",
    "        keys = self.wnd.keys\n",
    "\n",
    "        if action == keys.ACTION_PRESS:\n",
    "            if key == keys.C:\n",
    "                self.camera_enabled = not self.camera_enabled\n",
    "                self.wnd.mouse_exclusivity = self.camera_enabled\n",
    "                self.wnd.cursor = not self.camera_enabled\n",
    "            if key == keys.SPACE:\n",
    "                self.timer.toggle_pause()\n",
    "\n",
    "    def mouse_position_event(self, x: int, y: int, dx, dy):\n",
    "        if self.camera_enabled:\n",
    "            self.camera.rot_state(dx, dy)\n",
    "\n",
    "    def mouse_scroll_event(self, x_offset: float, y_offset: float):\n",
    "        if self.camera_enabled:\n",
    "            self.camera.zoom_state(y_offset)\n",
    "\n",
    "    def resize(self, width: int, height: int):\n",
    "        self.camera.projection.update(aspect_ratio=self.wnd.aspect_ratio)"
   ]
  },
  {
   "cell_type": "code",
   "execution_count": 4,
   "id": "67d04978",
   "metadata": {},
   "outputs": [
    {
     "ename": "NameError",
     "evalue": "name '__file__' is not defined",
     "output_type": "error",
     "traceback": [
      "\u001b[1;31m---------------------------------------------------------------------------\u001b[0m",
      "\u001b[1;31mNameError\u001b[0m                                 Traceback (most recent call last)",
      "\u001b[1;32m~\\AppData\\Local\\Temp/ipykernel_23912/1964829591.py\u001b[0m in \u001b[0;36m<module>\u001b[1;34m\u001b[0m\n\u001b[0;32m      6\u001b[0m \u001b[1;33m\u001b[0m\u001b[0m\n\u001b[0;32m      7\u001b[0m \u001b[1;33m\u001b[0m\u001b[0m\n\u001b[1;32m----> 8\u001b[1;33m \u001b[1;32mclass\u001b[0m \u001b[0mCubeModel\u001b[0m\u001b[1;33m(\u001b[0m\u001b[0mCameraWindow\u001b[0m\u001b[1;33m)\u001b[0m\u001b[1;33m:\u001b[0m\u001b[1;33m\u001b[0m\u001b[1;33m\u001b[0m\u001b[0m\n\u001b[0m\u001b[0;32m      9\u001b[0m     \u001b[0maspect_ratio\u001b[0m \u001b[1;33m=\u001b[0m \u001b[1;36m16\u001b[0m \u001b[1;33m/\u001b[0m \u001b[1;36m9\u001b[0m\u001b[1;33m\u001b[0m\u001b[1;33m\u001b[0m\u001b[0m\n\u001b[0;32m     10\u001b[0m     \u001b[0mresource_dir\u001b[0m \u001b[1;33m=\u001b[0m \u001b[0mPath\u001b[0m\u001b[1;33m(\u001b[0m\u001b[0m__file__\u001b[0m\u001b[1;33m)\u001b[0m\u001b[1;33m.\u001b[0m\u001b[0mparent\u001b[0m\u001b[1;33m.\u001b[0m\u001b[0mresolve\u001b[0m\u001b[1;33m(\u001b[0m\u001b[1;33m)\u001b[0m \u001b[1;33m/\u001b[0m \u001b[1;34m'resources'\u001b[0m\u001b[1;33m\u001b[0m\u001b[1;33m\u001b[0m\u001b[0m\n",
      "\u001b[1;32m~\\AppData\\Local\\Temp/ipykernel_23912/1964829591.py\u001b[0m in \u001b[0;36mCubeModel\u001b[1;34m()\u001b[0m\n\u001b[0;32m      8\u001b[0m \u001b[1;32mclass\u001b[0m \u001b[0mCubeModel\u001b[0m\u001b[1;33m(\u001b[0m\u001b[0mCameraWindow\u001b[0m\u001b[1;33m)\u001b[0m\u001b[1;33m:\u001b[0m\u001b[1;33m\u001b[0m\u001b[1;33m\u001b[0m\u001b[0m\n\u001b[0;32m      9\u001b[0m     \u001b[0maspect_ratio\u001b[0m \u001b[1;33m=\u001b[0m \u001b[1;36m16\u001b[0m \u001b[1;33m/\u001b[0m \u001b[1;36m9\u001b[0m\u001b[1;33m\u001b[0m\u001b[1;33m\u001b[0m\u001b[0m\n\u001b[1;32m---> 10\u001b[1;33m     \u001b[0mresource_dir\u001b[0m \u001b[1;33m=\u001b[0m \u001b[0mPath\u001b[0m\u001b[1;33m(\u001b[0m\u001b[0m__file__\u001b[0m\u001b[1;33m)\u001b[0m\u001b[1;33m.\u001b[0m\u001b[0mparent\u001b[0m\u001b[1;33m.\u001b[0m\u001b[0mresolve\u001b[0m\u001b[1;33m(\u001b[0m\u001b[1;33m)\u001b[0m \u001b[1;33m/\u001b[0m \u001b[1;34m'resources'\u001b[0m\u001b[1;33m\u001b[0m\u001b[1;33m\u001b[0m\u001b[0m\n\u001b[0m\u001b[0;32m     11\u001b[0m     \u001b[0mtitle\u001b[0m \u001b[1;33m=\u001b[0m \u001b[1;34m\"Cube Model\"\u001b[0m\u001b[1;33m\u001b[0m\u001b[1;33m\u001b[0m\u001b[0m\n\u001b[0;32m     12\u001b[0m \u001b[1;33m\u001b[0m\u001b[0m\n",
      "\u001b[1;31mNameError\u001b[0m: name '__file__' is not defined"
     ]
    }
   ],
   "source": [
    "from pathlib import Path\n",
    "from pyrr import Matrix44\n",
    "\n",
    "import moderngl\n",
    "import moderngl_window\n",
    "\n",
    "\n",
    "class CubeModel(CameraWindow):\n",
    "    aspect_ratio = 16 / 9\n",
    "    resource_dir = Path(__file__).parent.resolve() / 'resources'\n",
    "    title = \"Cube Model\"\n",
    "\n",
    "    def __init__(self, **kwargs):\n",
    "        super().__init__(**kwargs)\n",
    "        self.wnd.mouse_exclusivity = True\n",
    "\n",
    "        self.scene = self.load_scene('scenes/crate.obj')\n",
    "        # self.scene = self.load_scene('scenes/Apollo_17.stl')\n",
    "\n",
    "        self.camera.projection.update(near=0.1, far=100.0)\n",
    "        self.camera.velocity = 7.0\n",
    "        self.camera.mouse_sensitivity = 0.3\n",
    "\n",
    "    def render(self, time: float, frametime: float):\n",
    "        self.ctx.enable_only(moderngl.DEPTH_TEST | moderngl.CULL_FACE)\n",
    "\n",
    "        translation = Matrix44.from_translation((0, 0, -1.5))\n",
    "        rotation = Matrix44.from_eulers((0, 0, 0))\n",
    "        model_matrix = translation * rotation\n",
    "        camera_matrix = self.camera.matrix * model_matrix\n",
    "\n",
    "        self.scene.draw(\n",
    "            projection_matrix=self.camera.projection.matrix,\n",
    "            camera_matrix=camera_matrix,\n",
    "            time=time,\n",
    "        )\n",
    "\n",
    "\n",
    "if __name__ == '__main__':\n",
    "    moderngl_window.run_window_config(CubeModel)"
   ]
  },
  {
   "cell_type": "code",
   "execution_count": 2,
   "id": "d2e3ddd6",
   "metadata": {},
   "outputs": [
    {
     "ename": "ModuleNotFoundError",
     "evalue": "No module named 'mayavi'",
     "output_type": "error",
     "traceback": [
      "\u001b[1;31m---------------------------------------------------------------------------\u001b[0m",
      "\u001b[1;31mModuleNotFoundError\u001b[0m                       Traceback (most recent call last)",
      "\u001b[1;32m~\\AppData\\Local\\Temp/ipykernel_23912/1978985301.py\u001b[0m in \u001b[0;36m<module>\u001b[1;34m\u001b[0m\n\u001b[0;32m      1\u001b[0m \u001b[1;32mfrom\u001b[0m \u001b[0mnumpy\u001b[0m \u001b[1;32mimport\u001b[0m \u001b[0msin\u001b[0m\u001b[1;33m,\u001b[0m \u001b[0mcos\u001b[0m\u001b[1;33m,\u001b[0m \u001b[0mmgrid\u001b[0m\u001b[1;33m,\u001b[0m \u001b[0mpi\u001b[0m\u001b[1;33m,\u001b[0m \u001b[0msqrt\u001b[0m\u001b[1;33m\u001b[0m\u001b[1;33m\u001b[0m\u001b[0m\n\u001b[1;32m----> 2\u001b[1;33m \u001b[1;32mfrom\u001b[0m \u001b[0mmayavi\u001b[0m \u001b[1;32mimport\u001b[0m \u001b[0mmlab\u001b[0m\u001b[1;33m\u001b[0m\u001b[1;33m\u001b[0m\u001b[0m\n\u001b[0m\u001b[0;32m      3\u001b[0m \u001b[1;33m\u001b[0m\u001b[0m\n\u001b[0;32m      4\u001b[0m \u001b[0mmlab\u001b[0m\u001b[1;33m.\u001b[0m\u001b[0mfigure\u001b[0m\u001b[1;33m(\u001b[0m\u001b[0mfgcolor\u001b[0m\u001b[1;33m=\u001b[0m\u001b[1;33m(\u001b[0m\u001b[1;36m0\u001b[0m\u001b[1;33m,\u001b[0m \u001b[1;36m0\u001b[0m\u001b[1;33m,\u001b[0m \u001b[1;36m0\u001b[0m\u001b[1;33m)\u001b[0m\u001b[1;33m,\u001b[0m \u001b[0mbgcolor\u001b[0m\u001b[1;33m=\u001b[0m\u001b[1;33m(\u001b[0m\u001b[1;36m1\u001b[0m\u001b[1;33m,\u001b[0m \u001b[1;36m1\u001b[0m\u001b[1;33m,\u001b[0m \u001b[1;36m1\u001b[0m\u001b[1;33m)\u001b[0m\u001b[1;33m)\u001b[0m\u001b[1;33m\u001b[0m\u001b[1;33m\u001b[0m\u001b[0m\n\u001b[0;32m      5\u001b[0m \u001b[0mu\u001b[0m\u001b[1;33m,\u001b[0m \u001b[0mv\u001b[0m \u001b[1;33m=\u001b[0m \u001b[0mmgrid\u001b[0m\u001b[1;33m[\u001b[0m\u001b[1;33m-\u001b[0m \u001b[1;36m0.035\u001b[0m\u001b[1;33m:\u001b[0m\u001b[0mpi\u001b[0m\u001b[1;33m:\u001b[0m\u001b[1;36m0.01\u001b[0m\u001b[1;33m,\u001b[0m \u001b[1;33m-\u001b[0m \u001b[1;36m0.035\u001b[0m\u001b[1;33m:\u001b[0m\u001b[0mpi\u001b[0m\u001b[1;33m:\u001b[0m\u001b[1;36m0.01\u001b[0m\u001b[1;33m]\u001b[0m\u001b[1;33m\u001b[0m\u001b[1;33m\u001b[0m\u001b[0m\n",
      "\u001b[1;31mModuleNotFoundError\u001b[0m: No module named 'mayavi'"
     ]
    }
   ],
   "source": [
    "from numpy import sin, cos, mgrid, pi, sqrt\n",
    "from mayavi import mlab\n",
    "\n",
    "mlab.figure(fgcolor=(0, 0, 0), bgcolor=(1, 1, 1))\n",
    "u, v = mgrid[- 0.035:pi:0.01, - 0.035:pi:0.01]\n",
    "\n",
    "X = 2 / 3. * (cos(u) * cos(2 * v)\n",
    "        + sqrt(2) * sin(u) * cos(v)) * cos(u) / (sqrt(2) -\n",
    "                                                 sin(2 * u) * sin(3 * v))\n",
    "Y = 2 / 3. * (cos(u) * sin(2 * v) -\n",
    "        sqrt(2) * sin(u) * sin(v)) * cos(u) / (sqrt(2)\n",
    "        - sin(2 * u) * sin(3 * v))\n",
    "Z = -sqrt(2) * cos(u) * cos(u) / (sqrt(2) - sin(2 * u) * sin(3 * v))\n",
    "S = sin(u)\n",
    "\n",
    "mlab.mesh(X, Y, Z, scalars=S, colormap='YlGnBu', )\n",
    "\n",
    "# Nice view from the front\n",
    "mlab.view(.0, - 5.0, 4)\n",
    "mlab.show()"
   ]
  },
  {
   "cell_type": "code",
   "execution_count": null,
   "id": "6856e00b",
   "metadata": {},
   "outputs": [],
   "source": []
  }
 ],
 "metadata": {
  "kernelspec": {
   "display_name": "Python 3 (ipykernel)",
   "language": "python",
   "name": "python3"
  },
  "language_info": {
   "codemirror_mode": {
    "name": "ipython",
    "version": 3
   },
   "file_extension": ".py",
   "mimetype": "text/x-python",
   "name": "python",
   "nbconvert_exporter": "python",
   "pygments_lexer": "ipython3",
   "version": "3.9.6"
  }
 },
 "nbformat": 4,
 "nbformat_minor": 5
}
