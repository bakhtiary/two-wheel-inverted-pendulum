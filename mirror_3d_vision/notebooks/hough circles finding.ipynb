{
 "cells": [
  {
   "cell_type": "markdown",
   "id": "29a79ae5",
   "metadata": {},
   "source": [
    "# couldn't get this to work\n"
   ]
  },
  {
   "cell_type": "code",
   "execution_count": 26,
   "id": "2d49f401",
   "metadata": {},
   "outputs": [],
   "source": [
    "import numpy as np\n",
    "import argparse\n",
    "import cv2\n",
    "# construct the argument parser and parse the arguments\n",
    "image = cv2.imread(\"1.jpg\")\n",
    "output = image.copy()\n",
    "gray = cv2.cvtColor(image, cv2.COLOR_BGR2GRAY)\n"
   ]
  },
  {
   "cell_type": "code",
   "execution_count": 25,
   "id": "858128b5",
   "metadata": {},
   "outputs": [
    {
     "name": "stdout",
     "output_type": "stream",
     "text": [
      "ops none found!\n"
     ]
    }
   ],
   "source": [
    "image = cv2.imread(\"1.jpg\")\n",
    "output = image.copy()\n",
    "gray = cv2.cvtColor(image, cv2.COLOR_BGR2GRAY)\n",
    "\n",
    "# detect circles in the image\n",
    "def draw_circles(working_image, name):\n",
    "    circles = cv2.HoughCircles(working_image, cv2.HOUGH_GRADIENT, 1.7, 3, param2 = 70, minRadius=1, maxRadius=20)\n",
    "\n",
    "    # ensure at least some circles were found\n",
    "    if circles is not None:\n",
    "        # convert the (x, y) coordinates and radius of the circles to integers\n",
    "        circles = np.round(circles[0, :]).astype(\"int\")\n",
    "        # loop over the (x, y) coordinates and radius of the circles\n",
    "        for (x, y, r) in circles:\n",
    "            # draw the circle in the output image, then draw a rectangle\n",
    "            # corresponding to the center of the circle\n",
    "            cv2.circle(output, (x, y), r, (0, 255, 0), 4)\n",
    "            cv2.rectangle(output, (x - 5, y - 5), (x + 5, y + 5), (0, 128, 255), -1)\n",
    "        # show the output image\n",
    "        working_image_viewable = np.dstack((working_image, working_image, working_image))\n",
    "        cv2.imshow(\"output \" + name, np.hstack([image, working_image_viewable, output]))\n",
    "    else:\n",
    "        print(\"ops none found!\")\n",
    "\n",
    "\n",
    "draw_circles(gray,\"g\")\n",
    "draw_circles(image[:,:,0],\"r\")\n",
    "draw_circles(image[:,:,1],\"g\")\n",
    "draw_circles(image[:,:,2],\"b\")\n",
    "\n",
    "cv2.waitKey(0)\n",
    "    \n",
    "cv2.destroyAllWindows()"
   ]
  },
  {
   "cell_type": "code",
   "execution_count": 21,
   "id": "af85cc56",
   "metadata": {},
   "outputs": [],
   "source": [
    "\n",
    "image = cv2.imread(\"1.jpg\")\n",
    "output = image.copy()\n",
    "gray = cv2.cvtColor(image, cv2.COLOR_BGR2GRAY)\n",
    "\n",
    "# detect circles in the image\n",
    "def draw_circles(working_image, name):\n",
    "    gray_blur = cv2.medianBlur(working_image, 13)  # Remove noise before laplacian\n",
    "    gray_lap = cv2.Laplacian(gray_blur, cv2.CV_8UC1, ksize=5)\n",
    "    dilate_lap = cv2.dilate(gray_lap, (3, 3))  # Fill in gaps from blurring. This helps to detect circles with broken edges.\n",
    "    # Furture remove noise introduced by laplacian. This removes false pos in space between the two groups of circles.\n",
    "    lap_blur = cv2.bilateralFilter(dilate_lap, 5, 9, 9)\n",
    "    # Fix the resolution to 16. This helps it find more circles. Also, set distance between circles to 55 by measuring dist in image.\n",
    "    # Minimum radius and max radius are also set by examining the image.\n",
    "    circles = cv2.HoughCircles(lap_blur, cv2.HOUGH_GRADIENT, 10, 45, param2=200, minRadius=1, maxRadius=20)\n",
    "    \n",
    "    # ensure at least some circles were found\n",
    "    if circles is not None:\n",
    "        # convert the (x, y) coordinates and radius of the circles to integers\n",
    "        circles = np.round(circles[0, :]).astype(\"int\")\n",
    "        # loop over the (x, y) coordinates and radius of the circles\n",
    "        for (x, y, r) in circles:\n",
    "            # draw the circle in the output image, then draw a rectangle\n",
    "            # corresponding to the center of the circle\n",
    "            cv2.circle(output, (x, y), r, (0, 255, 0), 2)\n",
    "            cv2.rectangle(output, (x - 5, y - 5), (x + 5, y + 5), (0, 128, 255), -1)\n",
    "        # show the output image\n",
    "        working_image_viewable = np.dstack((working_image, working_image, working_image))\n",
    "        cv2.imshow(\"output \" + name, np.hstack([image, working_image_viewable, output]))\n",
    "    else:\n",
    "        print(\"ops none found!\")\n",
    "\n",
    "\n",
    "draw_circles(gray,\"g\")\n",
    "draw_circles(image[:,:,0],\"r\")\n",
    "draw_circles(image[:,:,1],\"g\")\n",
    "draw_circles(image[:,:,2],\"b\")\n",
    "\n",
    "cv2.waitKey(0)\n",
    "    \n",
    "cv2.destroyAllWindows()\n",
    "\n",
    "\n",
    " "
   ]
  },
  {
   "cell_type": "code",
   "execution_count": null,
   "id": "788653ed",
   "metadata": {},
   "outputs": [],
   "source": []
  },
  {
   "cell_type": "code",
   "execution_count": null,
   "id": "f6e89bdf",
   "metadata": {},
   "outputs": [],
   "source": []
  }
 ],
 "metadata": {
  "kernelspec": {
   "display_name": "Python 3 (ipykernel)",
   "language": "python",
   "name": "python3"
  },
  "language_info": {
   "codemirror_mode": {
    "name": "ipython",
    "version": 3
   },
   "file_extension": ".py",
   "mimetype": "text/x-python",
   "name": "python",
   "nbconvert_exporter": "python",
   "pygments_lexer": "ipython3",
   "version": "3.9.6"
  }
 },
 "nbformat": 4,
 "nbformat_minor": 5
}
