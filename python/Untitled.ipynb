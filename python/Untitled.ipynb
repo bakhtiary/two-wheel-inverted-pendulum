{
 "cells": [
  {
   "cell_type": "code",
   "execution_count": 1,
   "id": "9ef0d545",
   "metadata": {},
   "outputs": [],
   "source": [
    "%load_ext autoreload\n",
    "%autoreload 2"
   ]
  },
  {
   "cell_type": "code",
   "execution_count": 1,
   "id": "3c20cf19",
   "metadata": {},
   "outputs": [
    {
     "name": "stderr",
     "output_type": "stream",
     "text": [
      "2021-10-20 16:09:55.745071: W tensorflow/stream_executor/platform/default/dso_loader.cc:64] Could not load dynamic library 'libcudart.so.11.0'; dlerror: libcudart.so.11.0: cannot open shared object file: No such file or directory\n",
      "2021-10-20 16:09:55.745099: I tensorflow/stream_executor/cuda/cudart_stub.cc:29] Ignore above cudart dlerror if you do not have a GPU set up on your machine.\n",
      "/home/amir/.local/share/virtualenvs/python-rQ1OrFAJ/lib/python3.9/site-packages/pandas/compat/__init__.py:124: UserWarning: Could not import the lzma module. Your installed Python is incomplete. Attempting to use lzma compression will result in a RuntimeError.\n",
      "  warnings.warn(msg)\n"
     ]
    },
    {
     "ename": "ModuleNotFoundError",
     "evalue": "No module named 'tensorflow_addons'",
     "output_type": "error",
     "traceback": [
      "\u001b[0;31m---------------------------------------------------------------------------\u001b[0m",
      "\u001b[0;31mModuleNotFoundError\u001b[0m                       Traceback (most recent call last)",
      "\u001b[0;32m/tmp/ipykernel_2434435/732195032.py\u001b[0m in \u001b[0;36m<module>\u001b[0;34m\u001b[0m\n\u001b[1;32m      3\u001b[0m \u001b[0;32mimport\u001b[0m \u001b[0mxgboost\u001b[0m\u001b[0;34m\u001b[0m\u001b[0;34m\u001b[0m\u001b[0m\n\u001b[1;32m      4\u001b[0m \u001b[0;32mimport\u001b[0m \u001b[0mtensorflow\u001b[0m \u001b[0;32mas\u001b[0m \u001b[0mtf\u001b[0m\u001b[0;34m\u001b[0m\u001b[0;34m\u001b[0m\u001b[0m\n\u001b[0;32m----> 5\u001b[0;31m \u001b[0;32mimport\u001b[0m \u001b[0mtensorflow_addons\u001b[0m \u001b[0;32mas\u001b[0m \u001b[0mtfa\u001b[0m\u001b[0;34m\u001b[0m\u001b[0;34m\u001b[0m\u001b[0m\n\u001b[0m\u001b[1;32m      6\u001b[0m \u001b[0;32mimport\u001b[0m \u001b[0mmatplotlib\u001b[0m\u001b[0;34m.\u001b[0m\u001b[0mpyplot\u001b[0m \u001b[0;32mas\u001b[0m \u001b[0mplt\u001b[0m\u001b[0;34m\u001b[0m\u001b[0;34m\u001b[0m\u001b[0m\n\u001b[1;32m      7\u001b[0m \u001b[0;32mfrom\u001b[0m \u001b[0mkeras\u001b[0m \u001b[0;32mimport\u001b[0m \u001b[0mbackend\u001b[0m \u001b[0;32mas\u001b[0m \u001b[0mK\u001b[0m\u001b[0;34m\u001b[0m\u001b[0;34m\u001b[0m\u001b[0m\n",
      "\u001b[0;31mModuleNotFoundError\u001b[0m: No module named 'tensorflow_addons'"
     ]
    }
   ],
   "source": [
    "from openAIgym.data_extractor import *\n",
    "import gym\n",
    "import xgboost\n",
    "import tensorflow as tf\n",
    "import tensorflow_addons as tfa\n",
    "import matplotlib.pyplot as plt\n",
    "from keras import backend as K\n",
    "from tensorflow.python import debug as tf_debug\n",
    "\n",
    "# sess = K.get_session()\n",
    "# sess = tf_debug.LocalCLIDebugWrapperSession(sess)\n",
    "# K.set_session(sess)\n",
    "\n",
    "\n",
    "from sklearn.multioutput import MultiOutputRegressor\n",
    "\n",
    "env = gym.make('LunarLander-v2')\n",
    "de = DataExtractor(env,get_real_obs_for_luner_lander,RandomLunarAgent())\n",
    "cache_de = CachingExtractorDecorator(de)\n",
    "\n",
    "# import datetime\n",
    "# log_dir = \"./tensorboard_log_dir/\" + datetime.datetime.now().strftime(\"%Y%m%d-%H%M%S\")\n",
    "# tensorboard_callback = tf.keras.callbacks.TensorBoard(log_dir=log_dir, histogram_freq=1)"
   ]
  },
  {
   "cell_type": "code",
   "execution_count": 3,
   "id": "b2e8772e",
   "metadata": {},
   "outputs": [],
   "source": [
    "\n",
    "# regressor1 = MultiOutputRegressor(regressor1)\n",
    "\n",
    "ANGLE = 4\n",
    "ANGULAR_VEL = 5\n",
    "ACTION = 8\n",
    "sub_target = ANGULAR_VEL\n",
    "inputs = range(0,12)\n",
    "test_data = cache_de.get_data(1000, 100).sub_target_dataset(sub_target).sub_input_dataset(inputs)\n",
    "val_data = cache_de.get_data(2000, 100).sub_target_dataset(sub_target).sub_input_dataset(inputs)\n",
    "train_data = cache_de.get_data(3000, 100).sub_target_dataset(sub_target).sub_input_dataset(inputs)\n",
    "\n",
    "test_data = cache_de.get_data(1000, 100)\n",
    "val_data = cache_de.get_data(2000, 100)\n",
    "train_data = cache_de.get_data(3000, 100)"
   ]
  },
  {
   "cell_type": "code",
   "execution_count": 4,
   "id": "d16db65c",
   "metadata": {},
   "outputs": [
    {
     "data": {
      "text/plain": [
       "array([ 9.94287395e+00,  1.33900652e+01, -2.89319396e+00,  2.52981567e+00,\n",
       "        6.62625814e-03,  3.27676058e-01,  0.00000000e+00,  0.00000000e+00,\n",
       "        0.00000000e+00,  1.00000000e+00,  0.00000000e+00,  0.00000000e+00])"
      ]
     },
     "execution_count": 4,
     "metadata": {},
     "output_type": "execute_result"
    }
   ],
   "source": [
    "train_data.x[0]"
   ]
  },
  {
   "cell_type": "code",
   "execution_count": 17,
   "id": "e690d074",
   "metadata": {},
   "outputs": [
    {
     "name": "stderr",
     "output_type": "stream",
     "text": [
      "/home/amir/.local/share/virtualenvs/python-rQ1OrFAJ/lib/python3.9/site-packages/xgboost/data.py:119: UserWarning: Use subset (sliced data) of np.ndarray is not recommended because it will generate extra copies and increase memory consumption\n",
      "  warnings.warn(\n"
     ]
    },
    {
     "data": {
      "text/plain": [
       "array([0.01024665, 0.00951665, 0.03106144, 0.05237682, 0.00491441,\n",
       "       0.05671063, 0.01124401, 0.01248224])"
      ]
     },
     "execution_count": 17,
     "metadata": {},
     "output_type": "execute_result"
    }
   ],
   "source": [
    "regressor1 = xgboost.XGBRegressor(\n",
    "  objective ='reg:squarederror',\n",
    "  colsample_bytree = 0.3,\n",
    "  learning_rate = 0.05,\n",
    "  max_depth = 5,\n",
    "  alpha = 10,\n",
    "  n_estimators = 200\n",
    ")\n",
    "regressor1 = MultiOutputRegressor(regressor1)\n",
    "\n",
    "regressor1.fit(train_data.x, train_data.y)\n",
    "\n",
    "train_pred = regressor1.predict(train_data.x)\n",
    "train_errors = train_data.y-train_pred\n",
    "test_pred = regressor1.predict(test_data.x)\n",
    "errors = test_data.y-test_pred\n",
    "xgerr = np.mean(np.absolute(errors),axis=0)\n",
    "xgerr"
   ]
  },
  {
   "cell_type": "code",
   "execution_count": 111,
   "id": "9239f701",
   "metadata": {},
   "outputs": [
    {
     "name": "stdout",
     "output_type": "stream",
     "text": [
      "Epoch 1/10\n",
      "9/9 [==============================] - 0s 18ms/step - loss: 4.0544 - val_loss: 4.0044\n",
      "Epoch 2/10\n",
      "9/9 [==============================] - 0s 6ms/step - loss: 3.8444 - val_loss: 3.7990\n",
      "Epoch 3/10\n",
      "9/9 [==============================] - 0s 6ms/step - loss: 3.6374 - val_loss: 3.5983\n",
      "Epoch 4/10\n",
      "9/9 [==============================] - 0s 6ms/step - loss: 3.4356 - val_loss: 3.4036\n",
      "Epoch 5/10\n",
      "9/9 [==============================] - 0s 6ms/step - loss: 3.2402 - val_loss: 3.2159\n",
      "Epoch 6/10\n",
      "9/9 [==============================] - 0s 5ms/step - loss: 3.0529 - val_loss: 3.0366\n",
      "Epoch 7/10\n",
      "9/9 [==============================] - 0s 5ms/step - loss: 2.8751 - val_loss: 2.8671\n",
      "Epoch 8/10\n",
      "9/9 [==============================] - 0s 6ms/step - loss: 2.7079 - val_loss: 2.7090\n",
      "Epoch 9/10\n",
      "9/9 [==============================] - 0s 5ms/step - loss: 2.5539 - val_loss: 2.5629\n",
      "Epoch 10/10\n",
      "9/9 [==============================] - 0s 5ms/step - loss: 2.4147 - val_loss: 2.4289\n",
      "9/9 [==============================] - 0s 1ms/step\n",
      "9/9 [==============================] - 0s 882us/step\n"
     ]
    },
    {
     "data": {
      "text/plain": [
       "2.352958019119471"
      ]
     },
     "execution_count": 111,
     "metadata": {},
     "output_type": "execute_result"
    }
   ],
   "source": [
    "from sklearn import datasets, linear_model\n",
    "from sklearn.model_selection import cross_val_score, KFold\n",
    "from keras.models import Sequential\n",
    "from sklearn.metrics import accuracy_score\n",
    "from keras.layers import Dense\n",
    "from keras.wrappers.scikit_learn import KerasRegressor\n",
    "from keras_contrib.callbacks import CyclicLR\n",
    "\n",
    "def baseline_model():\n",
    "    model = Sequential()\n",
    "#     model.add(Dense(20, input_dim=12, activation='relu'))\n",
    "    model.add(Dense(1,input_dim=12))\n",
    "    clr = tfa.optimizers.CyclicalLearningRate(initial_learning_rate=0.001,\n",
    "        maximal_learning_rate=0.01,\n",
    "        scale_fn=lambda x: 1.,\n",
    "        scale_mode=\"cycle\",\n",
    "        step_size=10\n",
    "    )\n",
    "    adam = tf.optimizers.Adam(clr)\n",
    "    model.compile(loss='mean_absolute_error', optimizer=tf.optimizers.SGD(learning_rate=0.0001))\n",
    "    return model\n",
    "  \n",
    "nnRegressor = KerasRegressor(build_fn=baseline_model, batch_size=1000,\n",
    "                             validation_data = (val_data.x, val_data.y),\n",
    "                             verbose=True,shuffle=True\n",
    "                             # callbacks = [tensorboard_callback]\n",
    "                            )\n",
    "\n",
    "\n",
    "nnRegressor.fit(train_data.x, train_data.y, epochs=10)\n",
    "train_pred = nnRegressor.predict(train_data.x)\n",
    "train_errors = train_data.y-train_pred\n",
    "test_pred = nnRegressor.predict(test_data.x)\n",
    "errors = test_data.y-test_pred\n",
    "np.mean(np.absolute(errors),axis=0)-xgerr"
   ]
  },
  {
   "cell_type": "code",
   "execution_count": 114,
   "id": "2bda90a1",
   "metadata": {},
   "outputs": [
    {
     "name": "stdout",
     "output_type": "stream",
     "text": [
      "Epoch 11/20\n",
      "9/9 [==============================] - 0s 21ms/step - loss: 3.5618 - val_loss: 3.6287\n",
      "Epoch 12/20\n",
      "9/9 [==============================] - 0s 6ms/step - loss: 3.5172 - val_loss: 3.5715\n",
      "Epoch 13/20\n",
      "9/9 [==============================] - 0s 6ms/step - loss: 3.4756 - val_loss: 3.5180\n",
      "Epoch 14/20\n",
      "9/9 [==============================] - 0s 6ms/step - loss: 3.4375 - val_loss: 3.4681\n",
      "Epoch 15/20\n",
      "9/9 [==============================] - 0s 5ms/step - loss: 3.4022 - val_loss: 3.4205\n",
      "Epoch 16/20\n",
      "9/9 [==============================] - 0s 6ms/step - loss: 3.3691 - val_loss: 3.3757\n",
      "Epoch 17/20\n",
      "9/9 [==============================] - 0s 6ms/step - loss: 3.3381 - val_loss: 3.3336\n",
      "Epoch 18/20\n",
      "9/9 [==============================] - 0s 7ms/step - loss: 3.3093 - val_loss: 3.2943\n",
      "Epoch 19/20\n",
      "9/9 [==============================] - 0s 6ms/step - loss: 3.2827 - val_loss: 3.2573\n",
      "Epoch 20/20\n",
      "9/9 [==============================] - 0s 6ms/step - loss: 3.2581 - val_loss: 3.2225\n"
     ]
    },
    {
     "data": {
      "text/plain": [
       "<keras.callbacks.History at 0x7fd3a0771880>"
      ]
     },
     "execution_count": 114,
     "metadata": {},
     "output_type": "execute_result"
    }
   ],
   "source": [
    "nnRegressor.fit(train_data.x, train_data.y, initial_epoch=10, epochs=20)\n"
   ]
  },
  {
   "cell_type": "code",
   "execution_count": 55,
   "id": "fa21bbc5",
   "metadata": {},
   "outputs": [
    {
     "data": {
      "text/plain": [
       "{'epochs': 100,\n",
       " 'batch_size': 1000,\n",
       " 'validation_data': (array([[10.00281334, 13.39479446,  0.14236449, ...,  0.        ,\n",
       "           1.        ,  0.        ],\n",
       "         [10.00654888, 13.45612431,  0.1861635 , ...,  0.        ,\n",
       "           0.        ,  0.        ],\n",
       "         [10.01028538, 13.51345921,  0.18616121, ...,  0.        ,\n",
       "           1.        ,  0.        ],\n",
       "         ...,\n",
       "         [ 9.25862789,  4.55114365,  0.69294518, ...,  0.        ,\n",
       "           0.        ,  1.        ],\n",
       "         [ 9.27267647,  4.32539415,  0.73725742, ...,  1.        ,\n",
       "           0.        ,  0.        ],\n",
       "         [ 9.28615761,  4.09599638,  0.70077342, ...,  0.        ,\n",
       "           0.        ,  0.        ]]),\n",
       "  array([ 2.23675286e-02, -1.55502930e-05,  2.02688631e-02, ...,\n",
       "         -1.08661920e-01,  9.06152129e-02,  6.73120350e-01])),\n",
       " 'verbose': True,\n",
       " 'shuffle': True,\n",
       " 'build_fn': <function __main__.baseline_model()>}"
      ]
     },
     "execution_count": 55,
     "metadata": {},
     "output_type": "execute_result"
    }
   ],
   "source": [
    "nnRegressor.set_params(**dict(epochs=100))\n",
    "nnRegressor.get_params()"
   ]
  },
  {
   "cell_type": "code",
   "execution_count": 106,
   "id": "7a40a1ae",
   "metadata": {},
   "outputs": [],
   "source": [
    "nnRegressor.model.set_weights([np.array([[ 0.0],\n",
    "        [-0.0],\n",
    "        [-0.0],\n",
    "        [ 0.0],\n",
    "        [-0.0],\n",
    "        [-0.0],\n",
    "        [-0.0],\n",
    "        [-0.0],\n",
    "        [ 0.0],\n",
    "        [0.1],\n",
    "        [-0.00 ],\n",
    "        [-0.1]], dtype=np.float32),\n",
    " np.array([0.], dtype=np.float32)])"
   ]
  },
  {
   "cell_type": "code",
   "execution_count": 95,
   "id": "35f91fcb",
   "metadata": {},
   "outputs": [
    {
     "name": "stdout",
     "output_type": "stream",
     "text": [
      "[array([[ 0.11421993],\n",
      "       [-0.01627145],\n",
      "       [-0.05940893],\n",
      "       [ 0.00278835],\n",
      "       [ 0.27064958],\n",
      "       [-0.01215146],\n",
      "       [ 0.1380663 ],\n",
      "       [-0.14306177],\n",
      "       [-0.33118525],\n",
      "       [ 0.1274061 ],\n",
      "       [-0.32174045],\n",
      "       [ 0.15905309]], dtype=float32), array([-0.01163554], dtype=float32)]\n",
      "9/9 [==============================] - 0s 1ms/step\n",
      "7928.069167375565\n",
      "9/9 [==============================] - 0s 1ms/step\n"
     ]
    }
   ],
   "source": [
    "print(nnRegressor.model.get_weights())\n",
    "train_pred = nnRegressor.predict(train_data.x)\n",
    "train_errors = train_data.y-train_pred\n",
    "print(np.sum(np.absolute(train_errors)))\n",
    "test_pred = nnRegressor.predict(test_data.x)\n",
    "errors = test_data.y-test_pred"
   ]
  },
  {
   "cell_type": "code",
   "execution_count": 93,
   "id": "3d313027",
   "metadata": {},
   "outputs": [
    {
     "data": {
      "image/png": "[encoded data removed]",
      "text/plain": [
       "<Figure size 432x288 with 1 Axes>"
      ]
     },
     "metadata": {
      "needs_background": "light"
     },
     "output_type": "display_data"
    }
   ],
   "source": [
    "def rand_jitter(arr):\n",
    "    stdev = .01 \n",
    "    return arr + np.random.randn(len(arr)) * stdev\n",
    "\n",
    "fig, ax = plt.subplots()\n",
    "# ax.scatter(train_data.x[:,sub_target], train_data.y)\n",
    "# ax.hist2d(train_data.x[:,ACTION], train_data.y,bins = (10,1000))\n",
    "# ax.hist2d(train_data.x[:,ANGULAR_VEL], train_data.x[:,ANGLE],bins = (100,100))\n",
    "# ax.scatter(rand_jitter(train_data.x[:100,ACTION+3]), rand_jitter(train_data.y[:100]))\n",
    "# ax.scatter(rand_jitter(test_data.x[:100,ACTION+1]), rand_jitter(test_data.y[:100]))\n",
    "ax.scatter(rand_jitter(test_data.y[:1000]), rand_jitter(test_pred[:1000]),marker='.')\n",
    "# ax.hist2d(test_data.y[:1000], test_pred[:1000],bins=(1000,100))\n",
    "ax.set_xlim(-.2, .2)\n",
    "ax.set_ylim(-.2, .2)\n",
    "# ax.grid()\n",
    "plt.show()\n"
   ]
  },
  {
   "cell_type": "code",
   "execution_count": 32,
   "id": "82ae6280",
   "metadata": {},
   "outputs": [
    {
     "data": {
      "text/plain": [
       "(0.032638609409332275, -0.07747877, array([0., 0., 1., 0.]))"
      ]
     },
     "execution_count": 32,
     "metadata": {},
     "output_type": "execute_result"
    }
   ],
   "source": [
    "n += 1\n",
    "test_data.y[n], test_pred[n], test_data.x[n]"
   ]
  },
  {
   "cell_type": "code",
   "execution_count": 64,
   "id": "b47b50b9",
   "metadata": {},
   "outputs": [
    {
     "data": {
      "text/plain": [
       "array([0.01169274, 0.01169274, 0.01169274, ..., 0.01169274, 0.01169274,\n",
       "       0.01169274], dtype=float32)"
      ]
     },
     "execution_count": 64,
     "metadata": {},
     "output_type": "execute_result"
    }
   ],
   "source": [
    "# n=0\n",
    "test_pred\n",
    "# n+=1\n",
    "# train_data.x[n,ACTION], train_data.y[n]\n",
    "# np.diff(all_obs, axis=0)"
   ]
  },
  {
   "cell_type": "code",
   "execution_count": 105,
   "id": "59abc548",
   "metadata": {},
   "outputs": [
    {
     "name": "stdout",
     "output_type": "stream",
     "text": [
      "Using cuda device\n",
      "Wrapping the env with a `Monitor` wrapper\n",
      "Wrapping the env in a DummyVecEnv.\n",
      "Wrapping the env with a `Monitor` wrapper\n",
      "Wrapping the env in a DummyVecEnv.\n"
     ]
    }
   ],
   "source": [
    "\n",
    "import random\n",
    "import numpy as np\n",
    "import xgboost\n",
    "from sklearn.multioutput import MultiOutputRegressor\n",
    "\n",
    "from stable_baselines3 import DQN\n",
    "from stable_baselines3.common.evaluation import evaluate_policy\n",
    "from Box2D import b2Vec2\n",
    "from openAIgym.data_extractor import *\n",
    "# Create environment\n",
    "env = gym.make('LunarLander-v2')\n",
    "\n",
    "# Instantiate the agent\n",
    "model = DQN('MlpPolicy', env, verbose=1)\n",
    "# Train the agent\n",
    "model.learn(total_timesteps=int(2e2))\n",
    "# Save the agent\n",
    "model.save(\"dqn_lunar\")\n",
    "del model  # delete trained model to demonstrate loading\n",
    "\n",
    "# Load the trained agent\n",
    "model = DQN.load(\"dqn_lunar\", env=env)\n",
    "\n",
    "# Evaluate the agent\n",
    "# NOTE: If you use wrappers with your environment that modify rewards,\n",
    "#       this will be reflected here. To evaluate with original rewards,\n",
    "#       wrap environment in a \"Monitor\" wrapper before other wrappers.\n",
    "mean_reward, std_reward = evaluate_policy(model, model.get_env(), n_eval_episodes=10)\n",
    "\n",
    "# Enjoy trained agent\n",
    "obs = env.reset()\n",
    "for i in range(100):\n",
    "    action, _states = model.predict(obs, deterministic=True)\n",
    "    obs, rewards, dones, info = env.step(action)\n",
    "    env.render()"
   ]
  },
  {
   "cell_type": "code",
   "execution_count": 127,
   "id": "34303f0d",
   "metadata": {},
   "outputs": [
    {
     "name": "stdout",
     "output_type": "stream",
     "text": [
      "[-7.038e-05  1.419e+00 -7.140e-03  3.566e-01  8.831e-05  1.617e-03\n",
      "  0.000e+00  0.000e+00] 0\n",
      "0.004002718720585108\n",
      "[-1.409e-04  1.426e+00 -7.130e-03  3.309e-01  1.683e-04  1.601e-03\n",
      "  0.000e+00  0.000e+00] 1\n",
      "0.10138650983572006\n",
      "[-2.888e-04  1.433e+00 -1.684e-02  3.045e-01  2.196e-03  4.055e-02\n",
      "  0.000e+00  0.000e+00] 2\n",
      "0.07668130844831467\n",
      "[-5.412e-04  1.441e+00 -2.679e-02  3.285e-01  3.729e-03  3.067e-02\n",
      "  0.000e+00  0.000e+00] 3\n",
      "-0.02940422296524048\n",
      "[-7.092e-04  1.447e+00 -1.621e-02  3.017e-01  3.141e-03 -1.176e-02\n",
      "  0.000e+00  0.000e+00] 0\n",
      "-0.02936341054737568\n",
      "[-8.774e-04  1.454e+00 -1.621e-02  2.750e-01  2.554e-03 -1.175e-02\n",
      "  0.000e+00  0.000e+00] 1\n",
      "0.06489536911249161\n",
      "[-1.120e-03  1.459e+00 -2.562e-02  2.486e-01  3.852e-03  2.596e-02\n",
      "  0.000e+00  0.000e+00] 2\n",
      "0.02321477420628071\n",
      "[-0.002  1.465 -0.042  0.25   0.004  0.009  0.     0.   ] 3\n",
      "-0.08094526827335358\n",
      "[-0.002  1.47  -0.032  0.224  0.003 -0.032  0.     0.   ] 0\n",
      "-0.08090493083000183\n",
      "[-2.213e-03  1.474e+00 -3.202e-02  1.973e-01  1.079e-03 -3.236e-02\n",
      "  0.000e+00  0.000e+00] 1\n",
      "0.042306236922740936\n"
     ]
    }
   ],
   "source": [
    "obs = env.reset()\n",
    "np.set_printoptions(precision=3)\n",
    "for i in range(10):\n",
    "#     action, _states = model.predict(obs, deterministic=True)\n",
    "    action = i % 4\n",
    "    print(obs, action)\n",
    "    old_obs = obs\n",
    "    obs, rewards, dones, info = env.step(action)\n",
    "    print(env.lander.angularVelocity)\n",
    "    env.render()"
   ]
  },
  {
   "cell_type": "code",
   "execution_count": 341,
   "id": "545025a6",
   "metadata": {},
   "outputs": [
    {
     "data": {
      "text/plain": [
       "(array([0.12565127, 0.00104049, 0.        , 0.        , 0.01433016,\n",
       "        0.        , 0.        , 0.        ], dtype=float32),\n",
       " 100,\n",
       " True,\n",
       " {})"
      ]
     },
     "execution_count": 341,
     "metadata": {},
     "output_type": "execute_result"
    }
   ],
   "source": [
    "# action, _states = model.predict(obs, deterministic=True)\n",
    "env.render()\n",
    "obs, rewards, dones, info = env.step(0)\n",
    "obs, rewards, dones, info"
   ]
  },
  {
   "cell_type": "code",
   "execution_count": 356,
   "id": "88ebc683",
   "metadata": {},
   "outputs": [
    {
     "name": "stderr",
     "output_type": "stream",
     "text": [
      "/home/amir/.local/share/virtualenvs/python-rQ1OrFAJ/lib/python3.9/site-packages/xgboost/data.py:119: UserWarning: Use subset (sliced data) of np.ndarray is not recommended because it will generate extra copies and increase memory consumption\n",
      "  warnings.warn(\n"
     ]
    },
    {
     "data": {
      "text/plain": [
       "MultiOutputRegressor(estimator=XGBRegressor(alpha=10, base_score=None,\n",
       "                                            booster=None,\n",
       "                                            colsample_bylevel=None,\n",
       "                                            colsample_bynode=None,\n",
       "                                            colsample_bytree=0.3, gamma=None,\n",
       "                                            gpu_id=None, importance_type='gain',\n",
       "                                            interaction_constraints=None,\n",
       "                                            learning_rate=0.1,\n",
       "                                            max_delta_step=None, max_depth=5,\n",
       "                                            min_child_weight=None, missing=nan,\n",
       "                                            monotone_constraints=None,\n",
       "                                            n_estimators=1000, n_jobs=None,\n",
       "                                            num_parallel_tree=None,\n",
       "                                            random_state=None, reg_alpha=None,\n",
       "                                            reg_lambda=None,\n",
       "                                            scale_pos_weight=None,\n",
       "                                            subsample=None, tree_method=None,\n",
       "                                            validate_parameters=None,\n",
       "                                            verbosity=None))"
      ]
     },
     "execution_count": 356,
     "metadata": {},
     "output_type": "execute_result"
    }
   ],
   "source": [
    "xg_reg = xgboost.XGBRegressor(objective ='reg:squarederror', colsample_bytree = 0.3, learning_rate = 0.1, max_depth = 5, alpha = 10, n_estimators = 1000)\n",
    "xg_reg = MultiOutputRegressor(xg_reg)\n",
    "xg_reg.fit(train_dataX,train_dataY)"
   ]
  },
  {
   "cell_type": "code",
   "execution_count": 418,
   "id": "bec69387",
   "metadata": {},
   "outputs": [],
   "source": [
    "env.reset()\n",
    "prev_obs = get_real_obs(env)"
   ]
  },
  {
   "cell_type": "code",
   "execution_count": 613,
   "id": "337095f1",
   "metadata": {},
   "outputs": [],
   "source": [
    "action = 1\n",
    "next_state = prev_obs + xg_reg.predict(np.concatenate([prev_obs,[action]]).reshape(1, -1))\n",
    "next_state = next_state.reshape(-1)\n",
    "env.step(action)\n",
    "obs = get_real_obs(env)\n",
    "l = env.lander\n",
    "l.position=b2Vec2(next_state[0],next_state[1])\n",
    "l.linearVelocity=b2Vec2(next_state[2],next_state[3])\n",
    "l.angle = next_state[4]\n",
    "l.angularVelocity = next_state[5]\n",
    "env.render()\n",
    "prev_obs = obs\n"
   ]
  },
  {
   "cell_type": "code",
   "execution_count": 614,
   "id": "d8bd3781",
   "metadata": {},
   "outputs": [],
   "source": [
    "test_pred = xg_reg.predict(test_dataX)"
   ]
  },
  {
   "cell_type": "code",
   "execution_count": 620,
   "id": "f46def94",
   "metadata": {},
   "outputs": [
    {
     "data": {
      "text/plain": [
       "array([  0.2873213 ,   0.35183179,   9.93375767,  83.115664  ,\n",
       "         0.14197949, 137.76132054,   2.58090231,   7.95803136])"
      ]
     },
     "execution_count": 620,
     "metadata": {},
     "output_type": "execute_result"
    }
   ],
   "source": []
  },
  {
   "cell_type": "code",
   "execution_count": null,
   "id": "3ab4d2de",
   "metadata": {},
   "outputs": [],
   "source": []
  },
  {
   "cell_type": "code",
   "execution_count": null,
   "id": "77856fb7",
   "metadata": {},
   "outputs": [],
   "source": []
  },
  {
   "cell_type": "code",
   "execution_count": null,
   "id": "8937d8a0",
   "metadata": {},
   "outputs": [],
   "source": []
  },
  {
   "cell_type": "code",
   "execution_count": 2,
   "id": "56ae96ec",
   "metadata": {},
   "outputs": [
    {
     "data": {
      "text/plain": [
       "True"
      ]
     },
     "execution_count": 2,
     "metadata": {},
     "output_type": "execute_result"
    }
   ],
   "source": [
    "\n",
    "c1 = gym.make('CartPole-v1')\n",
    "c1.reset()\n",
    "c1.render()"
   ]
  },
  {
   "cell_type": "code",
   "execution_count": 3,
   "id": "37a47e8c",
   "metadata": {},
   "outputs": [
    {
     "data": {
      "text/plain": [
       "True"
      ]
     },
     "execution_count": 3,
     "metadata": {},
     "output_type": "execute_result"
    }
   ],
   "source": [
    "c2 = gym.make('CartPole-v1')\n",
    "\n",
    "c2.reset()\n",
    "c2.render()"
   ]
  },
  {
   "cell_type": "code",
   "execution_count": 13,
   "id": "408104c8",
   "metadata": {},
   "outputs": [
    {
     "data": {
      "text/plain": [
       "True"
      ]
     },
     "execution_count": 13,
     "metadata": {},
     "output_type": "execute_result"
    }
   ],
   "source": []
  },
  {
   "cell_type": "code",
   "execution_count": null,
   "id": "ec26b996",
   "metadata": {},
   "outputs": [],
   "source": []
  }
 ],
 "metadata": {
  "kernelspec": {
   "display_name": "Python 3 (ipykernel)",
   "language": "python",
   "name": "python3"
  },
  "language_info": {
   "codemirror_mode": {
    "name": "ipython",
    "version": 3
   },
   "file_extension": ".py",
   "mimetype": "text/x-python",
   "name": "python",
   "nbconvert_exporter": "python",
   "pygments_lexer": "ipython3",
   "version": "3.9.0"
  }
 },
 "nbformat": 4,
 "nbformat_minor": 5
}
