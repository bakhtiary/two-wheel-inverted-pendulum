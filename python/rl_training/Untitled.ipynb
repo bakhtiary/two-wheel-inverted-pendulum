{
 "cells": [
  {
   "cell_type": "code",
   "execution_count": 21,
   "id": "5a098e24",
   "metadata": {},
   "outputs": [],
   "source": [
    "import pickle\n",
    "import pandas as pd\n",
    "import numpy as np\n",
    "from stable_baselines3 import DDPG"
   ]
  },
  {
   "cell_type": "code",
   "execution_count": 22,
   "id": "ab77861a",
   "metadata": {},
   "outputs": [],
   "source": [
    "\n",
    "replay_buffer = pickle.load(open(\"./bin/training_results/replay_buffer.pkl\",\"rb\"))\n"
   ]
  },
  {
   "cell_type": "code",
   "execution_count": 23,
   "id": "bf914df4",
   "metadata": {},
   "outputs": [],
   "source": [
    "obs = pd.DataFrame(replay_buffer.observations.reshape(-1,3))\n",
    "actions = pd.DataFrame(replay_buffer.actions.reshape(-1,2))\n",
    "rewards = pd.DataFrame(replay_buffer.rewards.reshape(-1,1))\n",
    "dones = pd.DataFrame(replay_buffer.dones.reshape(-1,1))"
   ]
  },
  {
   "cell_type": "code",
   "execution_count": 11,
   "id": "8e0beafb",
   "metadata": {},
   "outputs": [
    {
     "data": {
      "text/plain": [
       "(array([  427,   813,  1198,  1583,  1970,  2357,  2747,  3125,  3508,\n",
       "         3901,  4286,  4661,  5036,  5412,  5785,  6170,  6551,  6926,\n",
       "         7308,  7681,  8061,  8445,  8809,  9180,  9552,  9927, 10298,\n",
       "        10675, 11054, 11426, 11804, 12172, 12549, 12917, 13296, 13654,\n",
       "        14024, 14393, 14768, 15137, 15508, 15887, 16253, 16619, 16984,\n",
       "        17349, 17725, 18096, 18473, 18843, 19220, 19601, 19978, 20351,\n",
       "        20727, 21098, 21474, 21851, 22230, 22602, 22972, 23347, 23724,\n",
       "        24095, 24473, 24847, 25160, 25531, 25906, 26287, 26659, 27035,\n",
       "        27417, 27796, 28176, 28549, 28920, 29292, 29654, 30027, 30407,\n",
       "        30783, 31155, 31533, 31863, 32236, 32587, 32876, 33173, 33536,\n",
       "        33908, 34288, 34661, 35033, 35416, 35786, 36158, 36538, 36914,\n",
       "        37285]),\n",
       " array([0, 0, 0, 0, 0, 0, 0, 0, 0, 0, 0, 0, 0, 0, 0, 0, 0, 0, 0, 0, 0, 0,\n",
       "        0, 0, 0, 0, 0, 0, 0, 0, 0, 0, 0, 0, 0, 0, 0, 0, 0, 0, 0, 0, 0, 0,\n",
       "        0, 0, 0, 0, 0, 0, 0, 0, 0, 0, 0, 0, 0, 0, 0, 0, 0, 0, 0, 0, 0, 0,\n",
       "        0, 0, 0, 0, 0, 0, 0, 0, 0, 0, 0, 0, 0, 0, 0, 0, 0, 0, 0, 0, 0, 0,\n",
       "        0, 0, 0, 0, 0, 0, 0, 0, 0, 0, 0, 0]))"
      ]
     },
     "execution_count": 11,
     "metadata": {},
     "output_type": "execute_result"
    }
   ],
   "source": [
    "np.nonzero(dones.to_numpy())"
   ]
  },
  {
   "cell_type": "code",
   "execution_count": 24,
   "id": "5fb096d9",
   "metadata": {},
   "outputs": [],
   "source": [
    "all_data=pd.concat([obs,actions,rewards,dones], axis=1)"
   ]
  },
  {
   "cell_type": "code",
   "execution_count": 26,
   "id": "e89cca72",
   "metadata": {},
   "outputs": [
    {
     "data": {
      "text/html": [
       "<div>\n",
       "<style scoped>\n",
       "    .dataframe tbody tr th:only-of-type {\n",
       "        vertical-align: middle;\n",
       "    }\n",
       "\n",
       "    .dataframe tbody tr th {\n",
       "        vertical-align: top;\n",
       "    }\n",
       "\n",
       "    .dataframe thead th {\n",
       "        text-align: right;\n",
       "    }\n",
       "</style>\n",
       "<table border=\"1\" class=\"dataframe\">\n",
       "  <thead>\n",
       "    <tr style=\"text-align: right;\">\n",
       "      <th></th>\n",
       "      <th>0</th>\n",
       "      <th>1</th>\n",
       "      <th>2</th>\n",
       "      <th>0</th>\n",
       "      <th>1</th>\n",
       "      <th>0</th>\n",
       "      <th>0</th>\n",
       "    </tr>\n",
       "  </thead>\n",
       "  <tbody>\n",
       "    <tr>\n",
       "      <th>500</th>\n",
       "      <td>-0.441899</td>\n",
       "      <td>-47.949120</td>\n",
       "      <td>0.000000</td>\n",
       "      <td>-0.004313</td>\n",
       "      <td>0.004251</td>\n",
       "      <td>0.515279</td>\n",
       "      <td>0.0</td>\n",
       "    </tr>\n",
       "    <tr>\n",
       "      <th>501</th>\n",
       "      <td>-0.441789</td>\n",
       "      <td>-47.911419</td>\n",
       "      <td>0.000110</td>\n",
       "      <td>-0.004313</td>\n",
       "      <td>0.004251</td>\n",
       "      <td>0.515388</td>\n",
       "      <td>0.0</td>\n",
       "    </tr>\n",
       "    <tr>\n",
       "      <th>502</th>\n",
       "      <td>-0.441716</td>\n",
       "      <td>-47.874020</td>\n",
       "      <td>0.000073</td>\n",
       "      <td>-0.004313</td>\n",
       "      <td>0.004251</td>\n",
       "      <td>0.515461</td>\n",
       "      <td>0.0</td>\n",
       "    </tr>\n",
       "    <tr>\n",
       "      <th>503</th>\n",
       "      <td>-0.441607</td>\n",
       "      <td>-47.836880</td>\n",
       "      <td>0.000110</td>\n",
       "      <td>-0.004313</td>\n",
       "      <td>0.004251</td>\n",
       "      <td>0.515571</td>\n",
       "      <td>0.0</td>\n",
       "    </tr>\n",
       "    <tr>\n",
       "      <th>504</th>\n",
       "      <td>-0.441497</td>\n",
       "      <td>-47.800011</td>\n",
       "      <td>0.000110</td>\n",
       "      <td>-0.004313</td>\n",
       "      <td>0.004251</td>\n",
       "      <td>0.515681</td>\n",
       "      <td>0.0</td>\n",
       "    </tr>\n",
       "    <tr>\n",
       "      <th>...</th>\n",
       "      <td>...</td>\n",
       "      <td>...</td>\n",
       "      <td>...</td>\n",
       "      <td>...</td>\n",
       "      <td>...</td>\n",
       "      <td>...</td>\n",
       "      <td>...</td>\n",
       "    </tr>\n",
       "    <tr>\n",
       "      <th>999995</th>\n",
       "      <td>0.000000</td>\n",
       "      <td>0.000000</td>\n",
       "      <td>0.000000</td>\n",
       "      <td>0.000000</td>\n",
       "      <td>0.000000</td>\n",
       "      <td>0.000000</td>\n",
       "      <td>0.0</td>\n",
       "    </tr>\n",
       "    <tr>\n",
       "      <th>999996</th>\n",
       "      <td>0.000000</td>\n",
       "      <td>0.000000</td>\n",
       "      <td>0.000000</td>\n",
       "      <td>0.000000</td>\n",
       "      <td>0.000000</td>\n",
       "      <td>0.000000</td>\n",
       "      <td>0.0</td>\n",
       "    </tr>\n",
       "    <tr>\n",
       "      <th>999997</th>\n",
       "      <td>0.000000</td>\n",
       "      <td>0.000000</td>\n",
       "      <td>0.000000</td>\n",
       "      <td>0.000000</td>\n",
       "      <td>0.000000</td>\n",
       "      <td>0.000000</td>\n",
       "      <td>0.0</td>\n",
       "    </tr>\n",
       "    <tr>\n",
       "      <th>999998</th>\n",
       "      <td>0.000000</td>\n",
       "      <td>0.000000</td>\n",
       "      <td>0.000000</td>\n",
       "      <td>0.000000</td>\n",
       "      <td>0.000000</td>\n",
       "      <td>0.000000</td>\n",
       "      <td>0.0</td>\n",
       "    </tr>\n",
       "    <tr>\n",
       "      <th>999999</th>\n",
       "      <td>0.000000</td>\n",
       "      <td>0.000000</td>\n",
       "      <td>0.000000</td>\n",
       "      <td>0.000000</td>\n",
       "      <td>0.000000</td>\n",
       "      <td>0.000000</td>\n",
       "      <td>0.0</td>\n",
       "    </tr>\n",
       "  </tbody>\n",
       "</table>\n",
       "<p>999500 rows × 7 columns</p>\n",
       "</div>"
      ],
      "text/plain": [
       "               0          1         2         0         1         0    0\n",
       "500    -0.441899 -47.949120  0.000000 -0.004313  0.004251  0.515279  0.0\n",
       "501    -0.441789 -47.911419  0.000110 -0.004313  0.004251  0.515388  0.0\n",
       "502    -0.441716 -47.874020  0.000073 -0.004313  0.004251  0.515461  0.0\n",
       "503    -0.441607 -47.836880  0.000110 -0.004313  0.004251  0.515571  0.0\n",
       "504    -0.441497 -47.800011  0.000110 -0.004313  0.004251  0.515681  0.0\n",
       "...          ...        ...       ...       ...       ...       ...  ...\n",
       "999995  0.000000   0.000000  0.000000  0.000000  0.000000  0.000000  0.0\n",
       "999996  0.000000   0.000000  0.000000  0.000000  0.000000  0.000000  0.0\n",
       "999997  0.000000   0.000000  0.000000  0.000000  0.000000  0.000000  0.0\n",
       "999998  0.000000   0.000000  0.000000  0.000000  0.000000  0.000000  0.0\n",
       "999999  0.000000   0.000000  0.000000  0.000000  0.000000  0.000000  0.0\n",
       "\n",
       "[999500 rows x 7 columns]"
      ]
     },
     "execution_count": 26,
     "metadata": {},
     "output_type": "execute_result"
    }
   ],
   "source": [
    "all_data[500:]"
   ]
  },
  {
   "cell_type": "code",
   "execution_count": 15,
   "id": "808234b8",
   "metadata": {},
   "outputs": [],
   "source": [
    "model = DDPG.load(\"./bin/training_results/real_model_training_results.zip\", None )"
   ]
  },
  {
   "cell_type": "code",
   "execution_count": 16,
   "id": "54bc1c5f",
   "metadata": {},
   "outputs": [
    {
     "data": {
      "text/plain": [
       "ContinuousCritic(\n",
       "  (features_extractor): FlattenExtractor(\n",
       "    (flatten): Flatten(start_dim=1, end_dim=-1)\n",
       "  )\n",
       "  (qf0): Sequential(\n",
       "    (0): Linear(in_features=5, out_features=6, bias=True)\n",
       "    (1): ReLU()\n",
       "    (2): Linear(in_features=6, out_features=6, bias=True)\n",
       "    (3): ReLU()\n",
       "    (4): Linear(in_features=6, out_features=1, bias=True)\n",
       "  )\n",
       ")"
      ]
     },
     "execution_count": 16,
     "metadata": {},
     "output_type": "execute_result"
    }
   ],
   "source": [
    "model.critic.input()"
   ]
  },
  {
   "cell_type": "code",
   "execution_count": null,
   "id": "8f526556",
   "metadata": {},
   "outputs": [],
   "source": []
  }
 ],
 "metadata": {
  "kernelspec": {
   "display_name": "Python 3 (ipykernel)",
   "language": "python",
   "name": "python3"
  },
  "language_info": {
   "codemirror_mode": {
    "name": "ipython",
    "version": 3
   },
   "file_extension": ".py",
   "mimetype": "text/x-python",
   "name": "python",
   "nbconvert_exporter": "python",
   "pygments_lexer": "ipython3",
   "version": "3.9.7"
  }
 },
 "nbformat": 4,
 "nbformat_minor": 5
}
