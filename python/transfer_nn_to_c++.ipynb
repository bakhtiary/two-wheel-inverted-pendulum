{
 "cells": [
  {
   "cell_type": "code",
   "execution_count": 1,
   "id": "771cea51",
   "metadata": {},
   "outputs": [
    {
     "name": "stdout",
     "output_type": "stream",
     "text": [
      "Using cuda device\n",
      "Wrapping the env with a `Monitor` wrapper\n",
      "Wrapping the env in a DummyVecEnv.\n"
     ]
    }
   ],
   "source": [
    "from stable_baselines3 import DDPG\n",
    "\n",
    "from rl_training.two_wheel_robot import TwoWheelRobot\n",
    "\n",
    "env = TwoWheelRobot()\n",
    "\n",
    "\n",
    "model = DDPG(\"MlpPolicy\", env, verbose=1)"
   ]
  },
  {
   "cell_type": "code",
   "execution_count": 2,
   "id": "bc21bf9f",
   "metadata": {},
   "outputs": [
    {
     "name": "stdout",
     "output_type": "stream",
     "text": [
      "Creating window glfw\n",
      "----------------------------------\n",
      "| rollout/           |           |\n",
      "|    ep_len_mean     | 55.8      |\n",
      "|    ep_rew_mean     | -1.94e+03 |\n",
      "| time/              |           |\n",
      "|    episodes        | 4         |\n",
      "|    fps             | 91        |\n",
      "|    time_elapsed    | 2         |\n",
      "|    total_timesteps | 223       |\n",
      "| train/             |           |\n",
      "|    actor_loss      | 53.7      |\n",
      "|    critic_loss     | 215       |\n",
      "|    learning_rate   | 0.001     |\n",
      "|    n_updates       | 163       |\n",
      "----------------------------------\n",
      "---------------------------------\n",
      "| rollout/           |          |\n",
      "|    ep_len_mean     | 37.4     |\n",
      "|    ep_rew_mean     | -1.2e+03 |\n",
      "| time/              |          |\n",
      "|    episodes        | 8        |\n",
      "|    fps             | 81       |\n",
      "|    time_elapsed    | 3        |\n",
      "|    total_timesteps | 299      |\n",
      "| train/             |          |\n",
      "|    actor_loss      | 62.1     |\n",
      "|    critic_loss     | 127      |\n",
      "|    learning_rate   | 0.001    |\n",
      "|    n_updates       | 246      |\n",
      "---------------------------------\n",
      "---------------------------------\n",
      "| rollout/           |          |\n",
      "|    ep_len_mean     | 32.3     |\n",
      "|    ep_rew_mean     | -969     |\n",
      "| time/              |          |\n",
      "|    episodes        | 12       |\n",
      "|    fps             | 80       |\n",
      "|    time_elapsed    | 4        |\n",
      "|    total_timesteps | 388      |\n",
      "| train/             |          |\n",
      "|    actor_loss      | 62.8     |\n",
      "|    critic_loss     | 105      |\n",
      "|    learning_rate   | 0.001    |\n",
      "|    n_updates       | 325      |\n",
      "---------------------------------\n",
      "----------------------------------\n",
      "| rollout/           |           |\n",
      "|    ep_len_mean     | 41.2      |\n",
      "|    ep_rew_mean     | -1.67e+03 |\n",
      "| time/              |           |\n",
      "|    episodes        | 16        |\n",
      "|    fps             | 83        |\n",
      "|    time_elapsed    | 7         |\n",
      "|    total_timesteps | 660       |\n",
      "| train/             |           |\n",
      "|    actor_loss      | 95.5      |\n",
      "|    critic_loss     | 144       |\n",
      "|    learning_rate   | 0.001     |\n",
      "|    n_updates       | 529       |\n",
      "----------------------------------\n",
      "----------------------------------\n",
      "| rollout/           |           |\n",
      "|    ep_len_mean     | 38.3      |\n",
      "|    ep_rew_mean     | -1.43e+03 |\n",
      "| time/              |           |\n",
      "|    episodes        | 20        |\n",
      "|    fps             | 73        |\n",
      "|    time_elapsed    | 10        |\n",
      "|    total_timesteps | 766       |\n",
      "| train/             |           |\n",
      "|    actor_loss      | 124       |\n",
      "|    critic_loss     | 154       |\n",
      "|    learning_rate   | 0.001     |\n",
      "|    n_updates       | 702       |\n",
      "----------------------------------\n",
      "----------------------------------\n",
      "| rollout/           |           |\n",
      "|    ep_len_mean     | 39.6      |\n",
      "|    ep_rew_mean     | -1.26e+03 |\n",
      "| time/              |           |\n",
      "|    episodes        | 24        |\n",
      "|    fps             | 75        |\n",
      "|    time_elapsed    | 12        |\n",
      "|    total_timesteps | 951       |\n",
      "| train/             |           |\n",
      "|    actor_loss      | 121       |\n",
      "|    critic_loss     | 136       |\n",
      "|    learning_rate   | 0.001     |\n",
      "|    n_updates       | 853       |\n",
      "----------------------------------\n"
     ]
    }
   ],
   "source": [
    "obs = env.reset()\n",
    "env.render()\n",
    "model.learn(total_timesteps=1000)\n",
    "\n",
    "for i in range(1000):\n",
    "    action, _states = model.predict(obs, deterministic=True)\n",
    "    obs, reward, done, info = env.step(action)\n",
    "    env.render()\n",
    "    if done:\n",
    "        break"
   ]
  },
  {
   "cell_type": "code",
   "execution_count": 6,
   "id": "61dbdc8f",
   "metadata": {},
   "outputs": [
    {
     "data": {
      "text/plain": [
       "Actor(\n",
       "  (features_extractor): FlattenExtractor(\n",
       "    (flatten): Flatten(start_dim=1, end_dim=-1)\n",
       "  )\n",
       "  (mu): Sequential(\n",
       "    (0): Linear(in_features=45, out_features=400, bias=True)\n",
       "    (1): ReLU()\n",
       "    (2): Linear(in_features=400, out_features=300, bias=True)\n",
       "    (3): ReLU()\n",
       "    (4): Linear(in_features=300, out_features=2, bias=True)\n",
       "    (5): Tanh()\n",
       "  )\n",
       ")"
      ]
     },
     "execution_count": 6,
     "metadata": {},
     "output_type": "execute_result"
    }
   ],
   "source": [
    "import torch\n",
    "\n",
    "model.actor"
   ]
  },
  {
   "cell_type": "code",
   "execution_count": null,
   "id": "ab736b97",
   "metadata": {},
   "outputs": [],
   "source": []
  },
  {
   "cell_type": "code",
   "execution_count": 15,
   "id": "33fe03e3",
   "metadata": {},
   "outputs": [],
   "source": [
    "x = torch.randn(1, len(obs), requires_grad=False, device=\"cuda\")"
   ]
  },
  {
   "cell_type": "code",
   "execution_count": 16,
   "id": "5efc2c85",
   "metadata": {},
   "outputs": [
    {
     "data": {
      "text/plain": [
       "'ModelProto {\\n  producer_name: \"pytorch\"\\n  domain: \"\"\\n  doc_string: \"\"\\n  graph:\\n    GraphProto {\\n      name: \"torch-jit-export\"\\n      inputs: [{name: \"obs\", type:Tensor dtype: 1, Tensor dims: 1 45}]\\n      outputs: [{name: \"14\", type:Tensor dtype: 1, Tensor dims: 1 2}]\\n      value_infos: []\\n      initializers: [TensorProto shape: [400 45],TensorProto shape: [400],TensorProto shape: [300 400],TensorProto shape: [300],TensorProto shape: [2 300],TensorProto shape: [2]]\\n      nodes: [\\n        Node {type: \"Cast\", inputs: [obs], outputs: [7], attributes: [{ name: \\'to\\', type: int, value: 1}]},\\n        Node {type: \"Flatten\", inputs: [7], outputs: [8], attributes: [{ name: \\'axis\\', type: int, value: 1}]},\\n        Node {type: \"Gemm\", inputs: [8,mu.0.weight,mu.0.bias], outputs: [9], attributes: [{ name: \\'alpha\\', type: float, value: 1},{ name: \\'beta\\', type: float, value: 1},{ name: \\'transB\\', type: int, value: 1}]},\\n        Node {type: \"Relu\", inputs: [9], outputs: [10], attributes: []},\\n        Node {type: \"Gemm\", inputs: [10,mu.2.weight,mu.2.bias], outputs: [11], attributes: [{ name: \\'alpha\\', type: float, value: 1},{ name: \\'beta\\', type: float, value: 1},{ name: \\'transB\\', type: int, value: 1}]},\\n        Node {type: \"Relu\", inputs: [11], outputs: [12], attributes: []},\\n        Node {type: \"Gemm\", inputs: [12,mu.4.weight,mu.4.bias], outputs: [13], attributes: [{ name: \\'alpha\\', type: float, value: 1},{ name: \\'beta\\', type: float, value: 1},{ name: \\'transB\\', type: int, value: 1}]},\\n        Node {type: \"Tanh\", inputs: [13], outputs: [14], attributes: []}\\n      ]\\n    }\\n  opset_import: [OperatorSetIdProto { domain: , version: 9}],\\n}\\n'"
      ]
     },
     "execution_count": 16,
     "metadata": {},
     "output_type": "execute_result"
    }
   ],
   "source": [
    "torch.onnx.export_to_pretty_string(model.actor, x, \"actor_model.onnx\")\n"
   ]
  },
  {
   "cell_type": "code",
   "execution_count": 17,
   "id": "3ef3ee04",
   "metadata": {},
   "outputs": [],
   "source": [
    "torch.onnx.export(model.actor, x, \"actor_model.onnx\")\n"
   ]
  },
  {
   "cell_type": "code",
   "execution_count": 18,
   "id": "28a51c1e",
   "metadata": {},
   "outputs": [],
   "source": [
    "import onnx\n"
   ]
  },
  {
   "cell_type": "code",
   "execution_count": 19,
   "id": "00245f4b",
   "metadata": {},
   "outputs": [],
   "source": [
    "onnx_model = onnx.load(\"actor_model.onnx\")  # load onnx model"
   ]
  },
  {
   "cell_type": "code",
   "execution_count": 5,
   "id": "0aa75134",
   "metadata": {},
   "outputs": [
    {
     "data": {
      "text/plain": [
       "(-0.030470559373497963, 0.006223668809980154)"
      ]
     },
     "execution_count": 5,
     "metadata": {},
     "output_type": "execute_result"
    }
   ],
   "source": [
    "import struct\n",
    "\n",
    "struct.unpack_from('2f',onnx_model.graph.initializer[5].raw_data)\n",
    "\n"
   ]
  },
  {
   "cell_type": "code",
   "execution_count": 14,
   "id": "d1bd5074",
   "metadata": {},
   "outputs": [
    {
     "name": "stdout",
     "output_type": "stream",
     "text": [
      " float mu_0_weight[] { \n",
      "        [-0.030470559373497963, 0.006223668809980154];\n",
      "};\n",
      "        \n",
      " float mu_0_bias[] { \n",
      "        [-0.030470559373497963, 0.006223668809980154];\n",
      "};\n",
      "        \n",
      " float mu_2_weight[] { \n",
      "        [-0.030470559373497963, 0.006223668809980154];\n",
      "};\n",
      "        \n",
      " float mu_2_bias[] { \n",
      "        [-0.030470559373497963, 0.006223668809980154];\n",
      "};\n",
      "        \n",
      " float mu_4_weight[] { \n",
      "        [-0.030470559373497963, 0.006223668809980154];\n",
      "};\n",
      "        \n",
      " float mu_4_bias[] { \n",
      "        [-0.030470559373497963, 0.006223668809980154];\n",
      "};\n",
      "        \n"
     ]
    }
   ],
   "source": [
    "import numpy as np\n",
    "with open(\"weight_definitions.h\", \"w\") as header_file:\n",
    "    for i, initializer in enumerate(onnx_model.graph.initializer):\n",
    "        format_spec = f\"{len(initializer.raw_data)//4}f\"\n",
    "#         with np.printoptions(floatmode='unique') as po:\n",
    "#            float_data = np.array(struct.unpack_from(format_spec,initializer.raw_data))\n",
    "            \n",
    "        raw_def = f\"\"\" float {initializer.name.replace('.','_')}[] {{ \n",
    "        {np.array2string(float_data, separator=',',floatmode='unique', threshold=10000000,  )};\n",
    "}};\n",
    "        \"\"\"\n",
    "        header_file.write(raw_def)\n",
    "        print(raw_def)\n",
    "    "
   ]
  },
  {
   "cell_type": "code",
   "execution_count": 10,
   "id": "2054a9a7",
   "metadata": {},
   "outputs": [
    {
     "data": {
      "text/plain": [
       "[input: \"obs\"\n",
       "output: \"7\"\n",
       "name: \"Cast_0\"\n",
       "op_type: \"Cast\"\n",
       "attribute {\n",
       "  name: \"to\"\n",
       "  i: 1\n",
       "  type: INT\n",
       "}\n",
       ", input: \"7\"\n",
       "output: \"8\"\n",
       "name: \"Flatten_1\"\n",
       "op_type: \"Flatten\"\n",
       "attribute {\n",
       "  name: \"axis\"\n",
       "  i: 1\n",
       "  type: INT\n",
       "}\n",
       ", input: \"8\"\n",
       "input: \"mu.0.weight\"\n",
       "input: \"mu.0.bias\"\n",
       "output: \"9\"\n",
       "name: \"Gemm_2\"\n",
       "op_type: \"Gemm\"\n",
       "attribute {\n",
       "  name: \"alpha\"\n",
       "  f: 1.0\n",
       "  type: FLOAT\n",
       "}\n",
       "attribute {\n",
       "  name: \"beta\"\n",
       "  f: 1.0\n",
       "  type: FLOAT\n",
       "}\n",
       "attribute {\n",
       "  name: \"transB\"\n",
       "  i: 1\n",
       "  type: INT\n",
       "}\n",
       ", input: \"9\"\n",
       "output: \"10\"\n",
       "name: \"Relu_3\"\n",
       "op_type: \"Relu\"\n",
       ", input: \"10\"\n",
       "input: \"mu.2.weight\"\n",
       "input: \"mu.2.bias\"\n",
       "output: \"11\"\n",
       "name: \"Gemm_4\"\n",
       "op_type: \"Gemm\"\n",
       "attribute {\n",
       "  name: \"alpha\"\n",
       "  f: 1.0\n",
       "  type: FLOAT\n",
       "}\n",
       "attribute {\n",
       "  name: \"beta\"\n",
       "  f: 1.0\n",
       "  type: FLOAT\n",
       "}\n",
       "attribute {\n",
       "  name: \"transB\"\n",
       "  i: 1\n",
       "  type: INT\n",
       "}\n",
       ", input: \"11\"\n",
       "output: \"12\"\n",
       "name: \"Relu_5\"\n",
       "op_type: \"Relu\"\n",
       ", input: \"12\"\n",
       "input: \"mu.4.weight\"\n",
       "input: \"mu.4.bias\"\n",
       "output: \"13\"\n",
       "name: \"Gemm_6\"\n",
       "op_type: \"Gemm\"\n",
       "attribute {\n",
       "  name: \"alpha\"\n",
       "  f: 1.0\n",
       "  type: FLOAT\n",
       "}\n",
       "attribute {\n",
       "  name: \"beta\"\n",
       "  f: 1.0\n",
       "  type: FLOAT\n",
       "}\n",
       "attribute {\n",
       "  name: \"transB\"\n",
       "  i: 1\n",
       "  type: INT\n",
       "}\n",
       ", input: \"13\"\n",
       "output: \"14\"\n",
       "name: \"Tanh_7\"\n",
       "op_type: \"Tanh\"\n",
       "]"
      ]
     },
     "execution_count": 10,
     "metadata": {},
     "output_type": "execute_result"
    }
   ],
   "source": [
    "onnx_model.graph.node"
   ]
  },
  {
   "cell_type": "code",
   "execution_count": null,
   "id": "1a4ae6ef",
   "metadata": {},
   "outputs": [],
   "source": [
    "np.array2string()"
   ]
  }
 ],
 "metadata": {
  "kernelspec": {
   "display_name": "Python 3 (ipykernel)",
   "language": "python",
   "name": "python3"
  },
  "language_info": {
   "codemirror_mode": {
    "name": "ipython",
    "version": 3
   },
   "file_extension": ".py",
   "mimetype": "text/x-python",
   "name": "python",
   "nbconvert_exporter": "python",
   "pygments_lexer": "ipython3",
   "version": "3.9.7"
  }
 },
 "nbformat": 4,
 "nbformat_minor": 5
}
