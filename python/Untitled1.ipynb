{
 "cells": [
  {
   "cell_type": "code",
   "execution_count": 1,
   "id": "2d52fd3f",
   "metadata": {},
   "outputs": [],
   "source": [
    "from openAIgym.data_extractor import *\n",
    "from Box2D import b2Vec2\n",
    "import gym\n",
    "import xgboost\n",
    "import tensorflow as tf\n",
    "import tensorflow_addons as tfa\n",
    "import matplotlib.pyplot as plt\n",
    "from keras import backend as K\n",
    "from tensorflow.python import debug as tf_debug\n",
    "\n",
    "# sess = K.get_session()\n",
    "# sess = tf_debug.LocalCLIDebugWrapperSession(sess)\n",
    "# K.set_session(sess)\n",
    "\n",
    "\n",
    "from sklearn.multioutput import MultiOutputRegressor\n",
    "\n",
    "env = gym.make('LunarLander-v2')\n",
    "de = DataExtractor(env,get_real_obs_for_luner_lander,RandomLunarAgent())\n",
    "cache_de = CachingExtractorDecorator(de)\n"
   ]
  },
  {
   "cell_type": "code",
   "execution_count": 76,
   "id": "0016856a",
   "metadata": {},
   "outputs": [],
   "source": [
    "ANGLE = 4\n",
    "ANGULAR_VEL = 5\n",
    "ACTION = 8\n",
    "sub_target = ANGULAR_VEL\n",
    "inputs = range(8,12)\n",
    "\n",
    "test_data = cache_de.get_data(1000, 10).sub_target_dataset(sub_target).sub_input_dataset(inputs)\n",
    "val_data = cache_de.get_data(2000, 10).sub_target_dataset(sub_target).sub_input_dataset(inputs)\n",
    "train_data = cache_de.get_data(3000, 100).sub_target_dataset(sub_target).sub_input_dataset(inputs)\n"
   ]
  },
  {
   "cell_type": "code",
   "execution_count": 77,
   "id": "b770997a",
   "metadata": {},
   "outputs": [
    {
     "data": {
      "text/plain": [
       "0.044371237037090686"
      ]
     },
     "execution_count": 77,
     "metadata": {},
     "output_type": "execute_result"
    }
   ],
   "source": [
    "regressor1 = xgboost.XGBRegressor(\n",
    "  objective ='reg:squarederror',\n",
    "  learning_rate = 0.09,\n",
    "  eval_metric = 'mae',\n",
    "  n_estimators = 200\n",
    ")\n",
    "# regressor1 = MultiOutputRegressor(regressor1)\n",
    "\n",
    "regressor1.fit(train_data.x, train_data.y)\n",
    "\n",
    "train_pred = regressor1.predict(train_data.x)\n",
    "train_errors = train_data.y-train_pred\n",
    "test_pred = regressor1.predict(test_data.x)\n",
    "errors = test_data.y-test_pred\n",
    "xgerr = np.mean(np.absolute(errors),axis=0)\n",
    "xgerr"
   ]
  },
  {
   "cell_type": "code",
   "execution_count": 79,
   "id": "e2b4be98",
   "metadata": {},
   "outputs": [
    {
     "name": "stdout",
     "output_type": "stream",
     "text": [
      "Epoch 1/10\n",
      "9/9 [==============================] - 0s 17ms/step - loss: 0.2863 - val_loss: 0.3027\n",
      "Epoch 2/10\n",
      "9/9 [==============================] - 0s 4ms/step - loss: 0.2819 - val_loss: 0.2982\n",
      "Epoch 3/10\n",
      "9/9 [==============================] - 0s 5ms/step - loss: 0.2775 - val_loss: 0.2936\n",
      "Epoch 4/10\n",
      "9/9 [==============================] - 0s 5ms/step - loss: 0.2730 - val_loss: 0.2890\n",
      "Epoch 5/10\n",
      "9/9 [==============================] - 0s 5ms/step - loss: 0.2686 - val_loss: 0.2845\n",
      "Epoch 6/10\n",
      "9/9 [==============================] - ETA: 0s - loss: 0.271 - 0s 4ms/step - loss: 0.2642 - val_loss: 0.2799\n",
      "Epoch 7/10\n",
      "9/9 [==============================] - ETA: 0s - loss: 0.264 - 0s 4ms/step - loss: 0.2597 - val_loss: 0.2754\n",
      "Epoch 8/10\n",
      "9/9 [==============================] - 0s 4ms/step - loss: 0.2553 - val_loss: 0.2708\n",
      "Epoch 9/10\n",
      "9/9 [==============================] - 0s 4ms/step - loss: 0.2510 - val_loss: 0.2665\n",
      "Epoch 10/10\n",
      "9/9 [==============================] - 0s 5ms/step - loss: 0.2479 - val_loss: 0.2645\n",
      "9/9 [==============================] - 0s 1ms/step\n",
      "1/1 [==============================] - 0s 18ms/step\n"
     ]
    },
    {
     "data": {
      "text/plain": [
       "0.20439872076526577"
      ]
     },
     "execution_count": 79,
     "metadata": {},
     "output_type": "execute_result"
    }
   ],
   "source": [
    "from sklearn import datasets, linear_model\n",
    "from sklearn.model_selection import cross_val_score, KFold\n",
    "from keras.models import Sequential\n",
    "from sklearn.metrics import accuracy_score\n",
    "from keras.layers import Dense\n",
    "from keras.wrappers.scikit_learn import KerasRegressor\n",
    "from keras_contrib.callbacks import CyclicLR\n",
    "\n",
    "def baseline_model():\n",
    "    model = Sequential()\n",
    "#     model.add(Dense(20, input_dim=12, activation='relu'))\n",
    "    model.add(Dense(1,input_dim=4))\n",
    "    clr = tfa.optimizers.CyclicalLearningRate(initial_learning_rate=0.001,\n",
    "        maximal_learning_rate=0.01,\n",
    "        scale_fn=lambda x: 1.,\n",
    "        scale_mode=\"cycle\",\n",
    "        step_size=10\n",
    "    )\n",
    "    model.run_eagerly\n",
    "    adam = tf.optimizers.Adam(clr)\n",
    "    model.compile(loss='mean_absolute_error', optimizer=tf.optimizers.SGD(learning_rate=0.001))\n",
    "    return model\n",
    "  \n",
    "nnRegressor = KerasRegressor(build_fn=baseline_model, batch_size=1000,\n",
    "                             validation_data = (val_data.x, val_data.y),\n",
    "                             verbose=True,shuffle=True\n",
    "                             # callbacks = [tensorboard_callback]\n",
    "                            )\n",
    "\n",
    "\n",
    "nnRegressor.fit(train_data.x, train_data.y, epochs=10)\n",
    "train_pred = nnRegressor.predict(train_data.x)\n",
    "train_errors = train_data.y-train_pred\n",
    "test_pred = nnRegressor.predict(test_data.x)\n",
    "errors = test_data.y-test_pred\n",
    "np.mean(np.absolute(errors),axis=0)-xgerr\n",
    "\n"
   ]
  },
  {
   "cell_type": "code",
   "execution_count": 60,
   "id": "2db941bc",
   "metadata": {},
   "outputs": [
    {
     "data": {
      "text/plain": [
       "'mean_absolute_error'"
      ]
     },
     "execution_count": 60,
     "metadata": {},
     "output_type": "execute_result"
    }
   ],
   "source": [
    "nnRegressor.model.loss"
   ]
  },
  {
   "cell_type": "code",
   "execution_count": 239,
   "id": "18c638a8",
   "metadata": {},
   "outputs": [],
   "source": [
    "model2 = tf.keras.Sequential([\n",
    "  Dense(1,input_dim=4)\n",
    "])\n",
    "\n",
    "\n",
    "optimizer = tf.keras.optimizers.SGD(0.0000001)\n",
    "loss_object = tf.keras.losses.mean_absolute_error\n",
    "\n",
    "model2.set_weights([np.array([[0. ],\n",
    "        [0.1],\n",
    "        [ 0],\n",
    "        [-0.1 ]], dtype=np.float32),\n",
    " np.array([0.0], dtype=np.float32)])\n",
    "\n",
    "loss_history = []"
   ]
  },
  {
   "cell_type": "code",
   "execution_count": 352,
   "id": "981975a0",
   "metadata": {},
   "outputs": [
    {
     "name": "stdout",
     "output_type": "stream",
     "text": [
      "[<tf.Tensor: shape=(4, 1), dtype=float32, numpy=\n",
      "array([[  458.5681 ],\n",
      "       [ 1397.7175 ],\n",
      "       [  449.70435],\n",
      "       [-1385.1566 ]], dtype=float32)>, <tf.Tensor: shape=(1,), dtype=float32, numpy=array([920.8175], dtype=float32)>]\n",
      "[array([[-1.0571639e-06],\n",
      "       [ 9.1816381e-02],\n",
      "       [-9.4230927e-07],\n",
      "       [-9.1888063e-02]], dtype=float32), array([-7.364783e-05], dtype=float32)]\n",
      "0.042887335925372194\n",
      "0.04443056882741729\n"
     ]
    }
   ],
   "source": [
    "# def train_step(model, images, labels):\n",
    "with tf.GradientTape(persistent=False,) as tape:\n",
    "  logits = model2(train_data.x, training=True)\n",
    "\n",
    "  # Add asserts to check the shape of the output.\n",
    "\n",
    "  loss_value = loss_object(train_data.y, logits)\n",
    "\n",
    "loss_history.append(loss_value.numpy().mean())\n",
    "grads = tape.gradient(loss_value, model2.trainable_variables)\n",
    "optimizer.apply_gradients(zip(grads, model2.trainable_variables))\n",
    "\n",
    "# train_step(model2, train_data.x, train_data.y)\n",
    "\n",
    "print(grads)\n",
    "\n",
    "print(model2.get_weights())\n",
    "\n",
    "print(np.mean(np.absolute(model2.predict(test_data.x).flatten() - test_data.y)))\n",
    "\n",
    "print(np.mean(np.absolute(model2.predict(train_data.x).flatten() - train_data.y)))"
   ]
  },
  {
   "cell_type": "code",
   "execution_count": 380,
   "id": "9543b003",
   "metadata": {},
   "outputs": [],
   "source": [
    "def get_gradient(n):\n",
    "  with tf.GradientTape(persistent=True,) as tape:\n",
    "    logits = model2(train_data.x[n:n+1], training=True)\n",
    "    print(logits)\n",
    "    print(train_data.y[n:n+1])\n",
    "    loss_value = loss_object(train_data.y[n:n+1], logits)\n",
    "  return tape.gradient(loss_value, model2.trainable_variables)\n",
    "  "
   ]
  },
  {
   "cell_type": "code",
   "execution_count": 387,
   "id": "6f521f94",
   "metadata": {},
   "outputs": [
    {
     "name": "stdout",
     "output_type": "stream",
     "text": [
      "tf.Tensor([[-7.459014e-05]], shape=(1, 1), dtype=float32)\n",
      "[0.02422076]\n"
     ]
    },
    {
     "data": {
      "text/plain": [
       "[<tf.Tensor: shape=(4, 1), dtype=float32, numpy=\n",
       " array([[-0.],\n",
       "        [-0.],\n",
       "        [-1.],\n",
       "        [-0.]], dtype=float32)>,\n",
       " <tf.Tensor: shape=(1,), dtype=float32, numpy=array([-1.], dtype=float32)>]"
      ]
     },
     "execution_count": 387,
     "metadata": {},
     "output_type": "execute_result"
    }
   ],
   "source": [
    "get_gradient(10)"
   ]
  },
  {
   "cell_type": "code",
   "execution_count": null,
   "id": "0b7460d0",
   "metadata": {},
   "outputs": [],
   "source": []
  }
 ],
 "metadata": {
  "kernelspec": {
   "display_name": "Python 3 (ipykernel)",
   "language": "python",
   "name": "python3"
  },
  "language_info": {
   "codemirror_mode": {
    "name": "ipython",
    "version": 3
   },
   "file_extension": ".py",
   "mimetype": "text/x-python",
   "name": "python",
   "nbconvert_exporter": "python",
   "pygments_lexer": "ipython3",
   "version": "3.9.0"
  }
 },
 "nbformat": 4,
 "nbformat_minor": 5
}
