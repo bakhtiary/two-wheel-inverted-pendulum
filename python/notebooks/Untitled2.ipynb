{
 "cells": [
  {
   "cell_type": "code",
   "execution_count": 3,
   "id": "c3acf136",
   "metadata": {},
   "outputs": [
    {
     "name": "stdout",
     "output_type": "stream",
     "text": [
      "The autoreload extension is already loaded. To reload it, use:\n",
      "  %reload_ext autoreload\n"
     ]
    }
   ],
   "source": [
    "%load_ext autoreload\n",
    "%autoreload 2\n",
    "from openAIgym.two_wheel_robot import TwoWheelRobot\n",
    "\n",
    "env = TwoWheelRobot()"
   ]
  },
  {
   "cell_type": "code",
   "execution_count": 71,
   "id": "e9553f4e",
   "metadata": {},
   "outputs": [],
   "source": [
    "env.reset()\n",
    "env.render()"
   ]
  },
  {
   "cell_type": "code",
   "execution_count": 1,
   "id": "2bb29547",
   "metadata": {},
   "outputs": [
    {
     "ename": "NameError",
     "evalue": "name 'env' is not defined",
     "output_type": "error",
     "traceback": [
      "\u001b[0;31m---------------------------------------------------------------------------\u001b[0m",
      "\u001b[0;31mNameError\u001b[0m                                 Traceback (most recent call last)",
      "\u001b[0;32m/tmp/ipykernel_2644850/2671785938.py\u001b[0m in \u001b[0;36m<module>\u001b[0;34m\u001b[0m\n\u001b[1;32m      1\u001b[0m \u001b[0;32mwhile\u001b[0m \u001b[0;32mTrue\u001b[0m\u001b[0;34m:\u001b[0m\u001b[0;34m\u001b[0m\u001b[0;34m\u001b[0m\u001b[0m\n\u001b[0;32m----> 2\u001b[0;31m   \u001b[0menv\u001b[0m\u001b[0;34m.\u001b[0m\u001b[0mrender\u001b[0m\u001b[0;34m(\u001b[0m\u001b[0;34m)\u001b[0m\u001b[0;34m\u001b[0m\u001b[0;34m\u001b[0m\u001b[0m\n\u001b[0m",
      "\u001b[0;31mNameError\u001b[0m: name 'env' is not defined"
     ]
    }
   ],
   "source": [
    "while True:\n",
    "  env.render()"
   ]
  },
  {
   "cell_type": "code",
   "execution_count": 87,
   "id": "fbe046a7",
   "metadata": {},
   "outputs": [
    {
     "data": {
      "text/plain": [
       "(array([-2.39825297e-02,  9.99766404e-01,  1.05429901e-05,  1.06452555e-02,\n",
       "        -1.88099941e-02, -7.92695018e+00, -7.93675497e+00, -1.42188970e-02,\n",
       "         1.37223316e-03, -1.23013266e-01,  1.74694576e-02,  5.48593901e-01,\n",
       "         1.06608310e-03, -1.68751020e+01, -1.68588133e+01,  0.00000000e+00,\n",
       "         0.00000000e+00,  0.00000000e+00,  0.00000000e+00,  0.00000000e+00,\n",
       "         0.00000000e+00,  3.26150160e-02,  7.85537061e-01, -2.60782074e-02,\n",
       "         1.00000000e+00, -8.48353839e-01,  1.00000000e+00,  0.00000000e+00,\n",
       "         0.00000000e+00,  0.00000000e+00,  0.00000000e+00,  0.00000000e+00,\n",
       "         0.00000000e+00,  0.00000000e+00,  0.00000000e+00,  0.00000000e+00,\n",
       "         0.00000000e+00,  0.00000000e+00,  0.00000000e+00,  0.00000000e+00,\n",
       "         0.00000000e+00,  0.00000000e+00,  0.00000000e+00,  0.00000000e+00,\n",
       "         0.00000000e+00]),\n",
       " -0.015800940978995103,\n",
       " True,\n",
       " {})"
      ]
     },
     "execution_count": 87,
     "metadata": {},
     "output_type": "execute_result"
    }
   ],
   "source": [
    "obs = env.step((-.5,-.5))\n",
    "env.render()\n",
    "obs"
   ]
  },
  {
   "cell_type": "code",
   "execution_count": 9,
   "id": "870905eb",
   "metadata": {},
   "outputs": [],
   "source": [
    "from statistics import mean\n",
    "import matplotlib\n",
    "matplotlib.use('Agg')\n",
    "import matplotlib.pyplot as plt\n",
    "from collections import deque\n",
    "import os\n",
    "import csv\n",
    "import numpy as np\n",
    "\n",
    "SCORES_CSV_PATH = \"./scores/scores.csv\"\n",
    "SCORES_PNG_PATH = \"./scores/scores.png\"\n",
    "SOLVED_CSV_PATH = \"./scores/solved.csv\"\n",
    "SOLVED_PNG_PATH = \"./scores/solved.png\"\n",
    "AVERAGE_SCORE_TO_SOLVE = 195\n",
    "CONSECUTIVE_RUNS_TO_SOLVE = 100\n",
    "\n",
    "\n",
    "class ScoreLogger:\n",
    "\n",
    "    def __init__(self, env_name):\n",
    "        self.scores = deque(maxlen=CONSECUTIVE_RUNS_TO_SOLVE)\n",
    "        self.env_name = env_name\n",
    "\n",
    "        if os.path.exists(SCORES_PNG_PATH):\n",
    "            os.remove(SCORES_PNG_PATH)\n",
    "        if os.path.exists(SCORES_CSV_PATH):\n",
    "            os.remove(SCORES_CSV_PATH)\n",
    "\n",
    "    def add_score(self, score, run):\n",
    "        self._save_csv(SCORES_CSV_PATH, score)\n",
    "        self._save_png(input_path=SCORES_CSV_PATH,\n",
    "                       output_path=SCORES_PNG_PATH,\n",
    "                       x_label=\"runs\",\n",
    "                       y_label=\"scores\",\n",
    "                       average_of_n_last=CONSECUTIVE_RUNS_TO_SOLVE,\n",
    "                       show_goal=True,\n",
    "                       show_trend=True,\n",
    "                       show_legend=True)\n",
    "        self.scores.append(score)\n",
    "        mean_score = mean(self.scores)\n",
    "        print(\"Scores: (min: \" + str(min(self.scores)) + \", avg: \" + str(mean_score) + \", max: \" + str(max(self.scores)) + \")\\n\")\n",
    "        if mean_score >= AVERAGE_SCORE_TO_SOLVE and len(self.scores) >= CONSECUTIVE_RUNS_TO_SOLVE:\n",
    "            solve_score = run-CONSECUTIVE_RUNS_TO_SOLVE\n",
    "            print(\"Solved in \" + str(solve_score) + \" runs, \" + str(run) + \" total runs.\")\n",
    "            self._save_csv(SOLVED_CSV_PATH, solve_score)\n",
    "            self._save_png(input_path=SOLVED_CSV_PATH,\n",
    "                           output_path=SOLVED_PNG_PATH,\n",
    "                           x_label=\"trials\",\n",
    "                           y_label=\"steps before solve\",\n",
    "                           average_of_n_last=None,\n",
    "                           show_goal=False,\n",
    "                           show_trend=False,\n",
    "                           show_legend=False)\n",
    "            exit()\n",
    "\n",
    "    def _save_png(self, input_path, output_path, x_label, y_label, average_of_n_last, show_goal, show_trend, show_legend):\n",
    "        x = []\n",
    "        y = []\n",
    "        with open(input_path, \"r\") as scores:\n",
    "            reader = csv.reader(scores)\n",
    "            data = list(reader)\n",
    "            for i in range(0, len(data)):\n",
    "                x.append(int(i))\n",
    "                y.append(int(data[i][0]))\n",
    "\n",
    "        plt.subplots()\n",
    "        plt.plot(x, y, label=\"score per run\")\n",
    "\n",
    "        average_range = average_of_n_last if average_of_n_last is not None else len(x)\n",
    "        plt.plot(x[-average_range:], [np.mean(y[-average_range:])] * len(y[-average_range:]), linestyle=\"--\", label=\"last \" + str(average_range) + \" runs average\")\n",
    "\n",
    "        if show_goal:\n",
    "            plt.plot(x, [AVERAGE_SCORE_TO_SOLVE] * len(x), linestyle=\":\", label=str(AVERAGE_SCORE_TO_SOLVE) + \" score average goal\")\n",
    "\n",
    "        if show_trend and len(x) > 1:\n",
    "            trend_x = x[1:]\n",
    "            z = np.polyfit(np.array(trend_x), np.array(y[1:]), 1)\n",
    "            p = np.poly1d(z)\n",
    "            plt.plot(trend_x, p(trend_x), linestyle=\"-.\",  label=\"trend\")\n",
    "\n",
    "        plt.title(self.env_name)\n",
    "        plt.xlabel(x_label)\n",
    "        plt.ylabel(y_label)\n",
    "\n",
    "        if show_legend:\n",
    "            plt.legend(loc=\"upper left\")\n",
    "\n",
    "        plt.savefig(output_path, bbox_inches=\"tight\")\n",
    "        plt.close()\n",
    "\n",
    "    def _save_csv(self, path, score):\n",
    "        if not os.path.exists(path):\n",
    "            with open(path, \"w\"):\n",
    "                pass\n",
    "        scores_file = open(path, \"a\")\n",
    "        with scores_file:\n",
    "            writer = csv.writer(scores_file)\n",
    "            writer.writerow([score])"
   ]
  },
  {
   "cell_type": "code",
   "execution_count": 4,
   "id": "a201767f",
   "metadata": {},
   "outputs": [
    {
     "name": "stderr",
     "output_type": "stream",
     "text": [
      "2021-10-19 19:29:22.421757: W tensorflow/stream_executor/platform/default/dso_loader.cc:64] Could not load dynamic library 'libcurand.so.10'; dlerror: libcurand.so.10: cannot open shared object file: No such file or directory\n",
      "2021-10-19 19:29:22.421904: W tensorflow/stream_executor/platform/default/dso_loader.cc:64] Could not load dynamic library 'libcusolver.so.11'; dlerror: libcusolver.so.11: cannot open shared object file: No such file or directory\n",
      "2021-10-19 19:29:22.422018: W tensorflow/stream_executor/platform/default/dso_loader.cc:64] Could not load dynamic library 'libcusparse.so.11'; dlerror: libcusparse.so.11: cannot open shared object file: No such file or directory\n",
      "2021-10-19 19:29:22.422256: W tensorflow/core/common_runtime/gpu/gpu_device.cc:1835] Cannot dlopen some GPU libraries. Please make sure the missing libraries mentioned above are installed properly if you would like to use GPU. Follow the guide at https://www.tensorflow.org/install/gpu for how to download and setup the required libraries for your platform.\n",
      "Skipping registering GPU devices...\n"
     ]
    },
    {
     "ename": "NameError",
     "evalue": "name 'keras' is not defined",
     "output_type": "error",
     "traceback": [
      "\u001b[0;31m---------------------------------------------------------------------------\u001b[0m",
      "\u001b[0;31mNameError\u001b[0m                                 Traceback (most recent call last)",
      "\u001b[0;32m/tmp/ipykernel_3166036/3834895696.py\u001b[0m in \u001b[0;36m<module>\u001b[0;34m\u001b[0m\n\u001b[1;32m     62\u001b[0m \u001b[0mobservation_space\u001b[0m \u001b[0;34m=\u001b[0m \u001b[0menv\u001b[0m\u001b[0;34m.\u001b[0m\u001b[0mobservation_space\u001b[0m\u001b[0;34m.\u001b[0m\u001b[0mshape\u001b[0m\u001b[0;34m[\u001b[0m\u001b[0;36m0\u001b[0m\u001b[0;34m]\u001b[0m\u001b[0;34m\u001b[0m\u001b[0;34m\u001b[0m\u001b[0m\n\u001b[1;32m     63\u001b[0m \u001b[0maction_space\u001b[0m \u001b[0;34m=\u001b[0m \u001b[0menv\u001b[0m\u001b[0;34m.\u001b[0m\u001b[0maction_space\u001b[0m\u001b[0;34m.\u001b[0m\u001b[0mn\u001b[0m\u001b[0;34m\u001b[0m\u001b[0;34m\u001b[0m\u001b[0m\n\u001b[0;32m---> 64\u001b[0;31m \u001b[0mdqn_solver\u001b[0m \u001b[0;34m=\u001b[0m \u001b[0mDQNSolver\u001b[0m\u001b[0;34m(\u001b[0m\u001b[0mobservation_space\u001b[0m\u001b[0;34m,\u001b[0m \u001b[0maction_space\u001b[0m\u001b[0;34m)\u001b[0m\u001b[0;34m\u001b[0m\u001b[0;34m\u001b[0m\u001b[0m\n\u001b[0m\u001b[1;32m     65\u001b[0m \u001b[0mrun\u001b[0m \u001b[0;34m=\u001b[0m \u001b[0;36m0\u001b[0m\u001b[0;34m\u001b[0m\u001b[0;34m\u001b[0m\u001b[0m\n\u001b[1;32m     66\u001b[0m \u001b[0;32mwhile\u001b[0m \u001b[0;32mTrue\u001b[0m\u001b[0;34m:\u001b[0m\u001b[0;34m\u001b[0m\u001b[0;34m\u001b[0m\u001b[0m\n",
      "\u001b[0;32m/tmp/ipykernel_3166036/3834895696.py\u001b[0m in \u001b[0;36m__init__\u001b[0;34m(self, observation_space, action_space)\u001b[0m\n\u001b[1;32m     32\u001b[0m         \u001b[0mself\u001b[0m\u001b[0;34m.\u001b[0m\u001b[0mmodel\u001b[0m\u001b[0;34m.\u001b[0m\u001b[0madd\u001b[0m\u001b[0;34m(\u001b[0m\u001b[0mDense\u001b[0m\u001b[0;34m(\u001b[0m\u001b[0;36m24\u001b[0m\u001b[0;34m,\u001b[0m \u001b[0mactivation\u001b[0m\u001b[0;34m=\u001b[0m\u001b[0;34m\"relu\"\u001b[0m\u001b[0;34m)\u001b[0m\u001b[0;34m)\u001b[0m\u001b[0;34m\u001b[0m\u001b[0;34m\u001b[0m\u001b[0m\n\u001b[1;32m     33\u001b[0m         \u001b[0mself\u001b[0m\u001b[0;34m.\u001b[0m\u001b[0mmodel\u001b[0m\u001b[0;34m.\u001b[0m\u001b[0madd\u001b[0m\u001b[0;34m(\u001b[0m\u001b[0mDense\u001b[0m\u001b[0;34m(\u001b[0m\u001b[0mself\u001b[0m\u001b[0;34m.\u001b[0m\u001b[0maction_space\u001b[0m\u001b[0;34m,\u001b[0m \u001b[0mactivation\u001b[0m\u001b[0;34m=\u001b[0m\u001b[0;34m\"linear\"\u001b[0m\u001b[0;34m)\u001b[0m\u001b[0;34m)\u001b[0m\u001b[0;34m\u001b[0m\u001b[0;34m\u001b[0m\u001b[0m\n\u001b[0;32m---> 34\u001b[0;31m         \u001b[0mself\u001b[0m\u001b[0;34m.\u001b[0m\u001b[0mmodel\u001b[0m\u001b[0;34m.\u001b[0m\u001b[0mcompile\u001b[0m\u001b[0;34m(\u001b[0m\u001b[0mloss\u001b[0m\u001b[0;34m=\u001b[0m\u001b[0;34m\"mse\"\u001b[0m\u001b[0;34m,\u001b[0m \u001b[0moptimizer\u001b[0m\u001b[0;34m=\u001b[0m\u001b[0mkeras\u001b[0m\u001b[0;34m.\u001b[0m\u001b[0moptimizers\u001b[0m\u001b[0;34m.\u001b[0m\u001b[0madam_v2\u001b[0m\u001b[0;34m.\u001b[0m\u001b[0mAdam\u001b[0m\u001b[0;34m(\u001b[0m\u001b[0mlr\u001b[0m\u001b[0;34m=\u001b[0m\u001b[0mLEARNING_RATE\u001b[0m\u001b[0;34m)\u001b[0m\u001b[0;34m)\u001b[0m\u001b[0;34m\u001b[0m\u001b[0;34m\u001b[0m\u001b[0m\n\u001b[0m\u001b[1;32m     35\u001b[0m \u001b[0;34m\u001b[0m\u001b[0m\n\u001b[1;32m     36\u001b[0m     \u001b[0;32mdef\u001b[0m \u001b[0mremember\u001b[0m\u001b[0;34m(\u001b[0m\u001b[0mself\u001b[0m\u001b[0;34m,\u001b[0m \u001b[0mstate\u001b[0m\u001b[0;34m,\u001b[0m \u001b[0maction\u001b[0m\u001b[0;34m,\u001b[0m \u001b[0mreward\u001b[0m\u001b[0;34m,\u001b[0m \u001b[0mnext_state\u001b[0m\u001b[0;34m,\u001b[0m \u001b[0mdone\u001b[0m\u001b[0;34m)\u001b[0m\u001b[0;34m:\u001b[0m\u001b[0;34m\u001b[0m\u001b[0;34m\u001b[0m\u001b[0m\n",
      "\u001b[0;31mNameError\u001b[0m: name 'keras' is not defined"
     ]
    }
   ],
   "source": [
    "import random\n",
    "import gym\n",
    "import numpy as np\n",
    "from collections import deque\n",
    "from keras.models import Sequential\n",
    "from keras.layers import Dense\n",
    "\n",
    "\n",
    "ENV_NAME = \"CartPole-v1\"\n",
    "\n",
    "GAMMA = 0.95\n",
    "LEARNING_RATE = 0.001\n",
    "\n",
    "MEMORY_SIZE = 1000000\n",
    "BATCH_SIZE = 20\n",
    "\n",
    "EXPLORATION_MAX = 1.0\n",
    "EXPLORATION_MIN = 0.01\n",
    "EXPLORATION_DECAY = 0.995\n",
    "\n",
    "\n",
    "class DQNSolver:\n",
    "\n",
    "    def __init__(self, observation_space, action_space):\n",
    "        self.exploration_rate = EXPLORATION_MAX\n",
    "\n",
    "        self.action_space = action_space\n",
    "        self.memory = deque(maxlen=MEMORY_SIZE)\n",
    "\n",
    "        self.model = Sequential()\n",
    "        self.model.add(Dense(24, input_shape=(observation_space,), activation=\"relu\"))\n",
    "        self.model.add(Dense(24, activation=\"relu\"))\n",
    "        self.model.add(Dense(self.action_space, activation=\"linear\"))\n",
    "        self.model.compile(loss=\"mse\", optimizer=keras.optimizers.adam_v2.Adam(lr=LEARNING_RATE))\n",
    "\n",
    "    def remember(self, state, action, reward, next_state, done):\n",
    "        self.memory.append((state, action, reward, next_state, done))\n",
    "\n",
    "    def act(self, state):\n",
    "        if np.random.rand() < self.exploration_rate:\n",
    "            return random.randrange(self.action_space)\n",
    "        q_values = self.model.predict(state)\n",
    "        return np.argmax(q_values[0])\n",
    "\n",
    "    def experience_replay(self):\n",
    "        if len(self.memory) < BATCH_SIZE:\n",
    "            return\n",
    "        batch = random.sample(self.memory, BATCH_SIZE)\n",
    "        for state, action, reward, state_next, terminal in batch:\n",
    "            q_update = reward\n",
    "            if not terminal:\n",
    "                q_update = (reward + GAMMA * np.amax(self.model.predict(state_next)[0]))\n",
    "            q_values = self.model.predict(state)\n",
    "            q_values[0][action] = q_update\n",
    "            self.model.fit(state, q_values, verbose=0)\n",
    "        self.exploration_rate *= EXPLORATION_DECAY\n",
    "        self.exploration_rate = max(EXPLORATION_MIN, self.exploration_rate)\n",
    "\n",
    "\n",
    "env = gym.make(ENV_NAME)\n",
    "score_logger = ScoreLogger(ENV_NAME)\n",
    "observation_space = env.observation_space.shape[0]\n",
    "action_space = env.action_space.n\n",
    "dqn_solver = DQNSolver(observation_space, action_space)\n",
    "run = 0\n",
    "while True:\n",
    "    run += 1\n",
    "    state = env.reset()\n",
    "    state = np.reshape(state, [1, observation_space])\n",
    "    step = 0\n",
    "    while True:\n",
    "        step += 1\n",
    "        env.render()\n",
    "        print(\"going to act\")\n",
    "        action = dqn_solver.act(state)\n",
    "        print(\"going to step\")\n",
    "        state_next, reward, terminal, info = env.step(action)\n",
    "        reward = reward if not terminal else -reward\n",
    "        state_next = np.reshape(state_next, [1, observation_space])\n",
    "        print(\"going to remember\")\n",
    "        dqn_solver.remember(state, action, reward, state_next, terminal)\n",
    "        state = state_next\n",
    "        print(\"going to terminate?\")\n",
    "        if terminal:\n",
    "            print(\"Run: \" + str(run) + \", exploration: \" + str(dqn_solver.exploration_rate) + \", score: \" + str(step))\n",
    "#             score_logger.add_score(step, run)\n",
    "            break\n",
    "        print(\"going to experience\")\n",
    "        dqn_solver.experience_replay()\n",
    "        print(\"going to next step\")\n",
    "\n",
    "\n"
   ]
  },
  {
   "cell_type": "code",
   "execution_count": 87,
   "id": "daf43acf",
   "metadata": {},
   "outputs": [
    {
     "data": {
      "text/plain": [
       "True"
      ]
     },
     "execution_count": 87,
     "metadata": {},
     "output_type": "execute_result"
    }
   ],
   "source": [
    "env.step(1)\n",
    "env.render()"
   ]
  },
  {
   "cell_type": "code",
   "execution_count": 52,
   "id": "76766be5",
   "metadata": {},
   "outputs": [
    {
     "data": {
      "text/plain": [
       "array([ 0.02311387,  0.02619676, -0.00669449,  0.00466855], dtype=float32)"
      ]
     },
     "execution_count": 52,
     "metadata": {},
     "output_type": "execute_result"
    }
   ],
   "source": [
    "env.reset()"
   ]
  },
  {
   "cell_type": "code",
   "execution_count": 225,
   "id": "c50e7605",
   "metadata": {},
   "outputs": [],
   "source": [
    "import xgboost\n",
    "from sklearn.multioutput import MultiOutputRegressor\n",
    "\n",
    "class DQNSolverxgb:\n",
    "\n",
    "    def __init__(self, observation_space, action_space):\n",
    "        self.exploration_rate = EXPLORATION_MAX\n",
    "\n",
    "        self.action_space = action_space\n",
    "        self.memory = deque(maxlen=MEMORY_SIZE)\n",
    "\n",
    "        self.model = MultiOutputRegressor(xgboost.XGBRegressor(n_estimators=100, n_jobs=-1))\n",
    "        self.isFit = False\n",
    "\n",
    "    def remember(self, state, action, reward, next_state, done):\n",
    "        self.memory.append((state, action, reward, next_state, done))\n",
    "\n",
    "    def act(self, state):\n",
    "        if np.random.rand() < self.exploration_rate:\n",
    "            return random.randrange(self.action_space)\n",
    "        if self.isFit == True:\n",
    "            q_values = self.model.predict(state)\n",
    "        else:\n",
    "            q_values = np.zeros(self.action_space).reshape(1, -1)\n",
    "        return np.argmax(q_values[0])\n",
    "\n",
    "    def experience_replay(self):\n",
    "        if len(self.memory) < BATCH_SIZE:\n",
    "            return\n",
    "        batch = random.sample(self.memory, BATCH_SIZE)\n",
    "        X = []\n",
    "        targets = []\n",
    "        for state, action, reward, state_next, terminal in batch:\n",
    "            q_update = reward\n",
    "            if not terminal:\n",
    "                if self.isFit:\n",
    "                    q_update = (reward + GAMMA * np.amax(self.model.predict(state_next)[0]))\n",
    "                else:\n",
    "                    q_update = reward\n",
    "            if self.isFit:\n",
    "                q_values = self.model.predict(state)\n",
    "            else:\n",
    "                q_values = np.zeros(self.action_space).reshape(1, -1)\n",
    "            q_values[0][action] = q_update\n",
    "            \n",
    "            X.append(list(state[0]))\n",
    "            targets.append(q_values[0])\n",
    "        self.model.fit(np.array(X), np.array(targets))\n",
    "        self.isFit = True\n",
    "        self.exploration_rate *= EXPLORATION_DECAY\n",
    "        self.exploration_rate = max(EXPLORATION_MIN, self.exploration_rate)\n",
    "        \n",
    "\n",
    "env = gym.make(ENV_NAME)\n",
    "score_logger = ScoreLogger(ENV_NAME)\n",
    "observation_space = env.observation_space.shape[0]\n",
    "action_space = env.action_space.n\n",
    "dqn_solver = DQNSolverxgb(observation_space, action_space)\n",
    "run = 0"
   ]
  },
  {
   "cell_type": "code",
   "execution_count": 308,
   "id": "e31b636f",
   "metadata": {},
   "outputs": [
    {
     "name": "stdout",
     "output_type": "stream",
     "text": [
      "just_resetted\n",
      "just_resetted\n",
      "just_resetted\n",
      "just_resetted\n",
      "just_resetted\n",
      "just_resetted\n",
      "just_resetted\n",
      "just_resetted\n",
      "just_resetted\n",
      "just_resetted\n",
      "\n",
      "going to act\n",
      "going to step\n",
      "going to remember\n",
      "going to terminate?\n",
      "going to experience\n"
     ]
    },
    {
     "name": "stderr",
     "output_type": "stream",
     "text": [
      "/home/amir/.local/share/virtualenvs/python-rQ1OrFAJ/lib/python3.9/site-packages/xgboost/data.py:119: UserWarning: Use subset (sliced data) of np.ndarray is not recommended because it will generate extra copies and increase memory consumption\n",
      "  warnings.warn(\n"
     ]
    },
    {
     "name": "stdout",
     "output_type": "stream",
     "text": [
      "going to next step\n",
      "going to act\n",
      "going to step\n",
      "going to remember\n",
      "going to terminate?\n",
      "going to experience\n"
     ]
    },
    {
     "name": "stderr",
     "output_type": "stream",
     "text": [
      "/home/amir/.local/share/virtualenvs/python-rQ1OrFAJ/lib/python3.9/site-packages/xgboost/data.py:119: UserWarning: Use subset (sliced data) of np.ndarray is not recommended because it will generate extra copies and increase memory consumption\n",
      "  warnings.warn(\n"
     ]
    },
    {
     "name": "stdout",
     "output_type": "stream",
     "text": [
      "going to next step\n",
      "going to act\n",
      "going to step\n",
      "going to remember\n",
      "going to terminate?\n",
      "going to experience\n"
     ]
    },
    {
     "name": "stderr",
     "output_type": "stream",
     "text": [
      "/home/amir/.local/share/virtualenvs/python-rQ1OrFAJ/lib/python3.9/site-packages/xgboost/data.py:119: UserWarning: Use subset (sliced data) of np.ndarray is not recommended because it will generate extra copies and increase memory consumption\n",
      "  warnings.warn(\n"
     ]
    },
    {
     "name": "stdout",
     "output_type": "stream",
     "text": [
      "going to next step\n",
      "going to act\n",
      "going to step\n",
      "going to remember\n",
      "going to terminate?\n",
      "going to experience\n"
     ]
    },
    {
     "name": "stderr",
     "output_type": "stream",
     "text": [
      "/home/amir/.local/share/virtualenvs/python-rQ1OrFAJ/lib/python3.9/site-packages/xgboost/data.py:119: UserWarning: Use subset (sliced data) of np.ndarray is not recommended because it will generate extra copies and increase memory consumption\n",
      "  warnings.warn(\n"
     ]
    },
    {
     "name": "stdout",
     "output_type": "stream",
     "text": [
      "going to next step\n",
      "going to act\n",
      "going to step\n",
      "going to remember\n",
      "going to terminate?\n",
      "going to experience\n"
     ]
    },
    {
     "name": "stderr",
     "output_type": "stream",
     "text": [
      "/home/amir/.local/share/virtualenvs/python-rQ1OrFAJ/lib/python3.9/site-packages/xgboost/data.py:119: UserWarning: Use subset (sliced data) of np.ndarray is not recommended because it will generate extra copies and increase memory consumption\n",
      "  warnings.warn(\n"
     ]
    },
    {
     "name": "stdout",
     "output_type": "stream",
     "text": [
      "going to next step\n",
      "going to act\n",
      "going to step\n",
      "going to remember\n",
      "going to terminate?\n",
      "going to experience\n"
     ]
    },
    {
     "name": "stderr",
     "output_type": "stream",
     "text": [
      "/home/amir/.local/share/virtualenvs/python-rQ1OrFAJ/lib/python3.9/site-packages/xgboost/data.py:119: UserWarning: Use subset (sliced data) of np.ndarray is not recommended because it will generate extra copies and increase memory consumption\n",
      "  warnings.warn(\n"
     ]
    },
    {
     "name": "stdout",
     "output_type": "stream",
     "text": [
      "going to next step\n",
      "going to act\n",
      "going to step\n",
      "going to remember\n",
      "going to terminate?\n",
      "going to experience\n"
     ]
    },
    {
     "name": "stderr",
     "output_type": "stream",
     "text": [
      "/home/amir/.local/share/virtualenvs/python-rQ1OrFAJ/lib/python3.9/site-packages/xgboost/data.py:119: UserWarning: Use subset (sliced data) of np.ndarray is not recommended because it will generate extra copies and increase memory consumption\n",
      "  warnings.warn(\n"
     ]
    },
    {
     "name": "stdout",
     "output_type": "stream",
     "text": [
      "going to next step\n",
      "going to act\n",
      "going to step\n",
      "going to remember\n",
      "going to terminate?\n",
      "going to experience\n"
     ]
    },
    {
     "name": "stderr",
     "output_type": "stream",
     "text": [
      "/home/amir/.local/share/virtualenvs/python-rQ1OrFAJ/lib/python3.9/site-packages/xgboost/data.py:119: UserWarning: Use subset (sliced data) of np.ndarray is not recommended because it will generate extra copies and increase memory consumption\n",
      "  warnings.warn(\n"
     ]
    },
    {
     "name": "stdout",
     "output_type": "stream",
     "text": [
      "going to next step\n",
      "going to act\n",
      "going to step\n",
      "going to remember\n",
      "going to terminate?\n",
      "going to experience\n"
     ]
    },
    {
     "name": "stderr",
     "output_type": "stream",
     "text": [
      "/home/amir/.local/share/virtualenvs/python-rQ1OrFAJ/lib/python3.9/site-packages/xgboost/data.py:119: UserWarning: Use subset (sliced data) of np.ndarray is not recommended because it will generate extra copies and increase memory consumption\n",
      "  warnings.warn(\n"
     ]
    },
    {
     "name": "stdout",
     "output_type": "stream",
     "text": [
      "going to next step\n",
      "going to act\n",
      "going to step\n",
      "going to remember\n",
      "going to terminate?\n",
      "going to experience\n"
     ]
    },
    {
     "name": "stderr",
     "output_type": "stream",
     "text": [
      "/home/amir/.local/share/virtualenvs/python-rQ1OrFAJ/lib/python3.9/site-packages/xgboost/data.py:119: UserWarning: Use subset (sliced data) of np.ndarray is not recommended because it will generate extra copies and increase memory consumption\n",
      "  warnings.warn(\n"
     ]
    },
    {
     "name": "stdout",
     "output_type": "stream",
     "text": [
      "going to next step\n",
      "going to act\n",
      "going to step\n",
      "going to remember\n",
      "going to terminate?\n",
      "going to experience\n"
     ]
    },
    {
     "name": "stderr",
     "output_type": "stream",
     "text": [
      "/home/amir/.local/share/virtualenvs/python-rQ1OrFAJ/lib/python3.9/site-packages/xgboost/data.py:119: UserWarning: Use subset (sliced data) of np.ndarray is not recommended because it will generate extra copies and increase memory consumption\n",
      "  warnings.warn(\n"
     ]
    },
    {
     "name": "stdout",
     "output_type": "stream",
     "text": [
      "going to next step\n",
      "going to act\n",
      "going to step\n",
      "going to remember\n",
      "going to terminate?\n",
      "going to experience\n"
     ]
    },
    {
     "name": "stderr",
     "output_type": "stream",
     "text": [
      "/home/amir/.local/share/virtualenvs/python-rQ1OrFAJ/lib/python3.9/site-packages/xgboost/data.py:119: UserWarning: Use subset (sliced data) of np.ndarray is not recommended because it will generate extra copies and increase memory consumption\n",
      "  warnings.warn(\n"
     ]
    },
    {
     "name": "stdout",
     "output_type": "stream",
     "text": [
      "going to next step\n",
      "going to act\n",
      "going to step\n",
      "going to remember\n",
      "going to terminate?\n",
      "going to experience\n",
      "going to next step\n",
      "going to act\n",
      "going to step\n",
      "going to remember\n",
      "going to terminate?\n",
      "Run: 83, exploration: 0.8142285204175609, score: 14\n"
     ]
    },
    {
     "name": "stderr",
     "output_type": "stream",
     "text": [
      "/home/amir/.local/share/virtualenvs/python-rQ1OrFAJ/lib/python3.9/site-packages/xgboost/data.py:119: UserWarning: Use subset (sliced data) of np.ndarray is not recommended because it will generate extra copies and increase memory consumption\n",
      "  warnings.warn(\n"
     ]
    }
   ],
   "source": [
    "run += 1\n",
    "state = env.reset()\n",
    "print(\"just_resetted\\n\"*10)\n",
    "state = np.reshape(state, [1, observation_space])\n",
    "step = 0\n",
    "while True:\n",
    "    step += 1\n",
    "    env.render()\n",
    "    print(\"going to act\")\n",
    "    action = dqn_solver.act(state)\n",
    "    print(\"going to step\")\n",
    "    state_next, reward, terminal, info = env.step(action)\n",
    "    reward = reward if not terminal else -reward\n",
    "    state_next = np.reshape(state_next, [1, observation_space])\n",
    "    print(\"going to remember\")\n",
    "    dqn_solver.remember(state, action, reward, state_next, terminal)\n",
    "    state = state_next\n",
    "    print(\"going to terminate?\")\n",
    "    if terminal:\n",
    "        print(\"Run: \" + str(run) + \", exploration: \" + str(dqn_solver.exploration_rate) + \", score: \" + str(step))\n",
    "#             score_logger.add_score(step, run)\n",
    "        break\n",
    "    print(\"going to experience\")\n",
    "    dqn_solver.experience_replay()\n",
    "    print(\"going to next step\")"
   ]
  },
  {
   "cell_type": "code",
   "execution_count": 11,
   "id": "ffdb2884",
   "metadata": {},
   "outputs": [
    {
     "name": "stderr",
     "output_type": "stream",
     "text": [
      "/home/amir/.local/share/virtualenvs/python-rQ1OrFAJ/lib/python3.9/site-packages/xgboost/data.py:119: UserWarning: Use subset (sliced data) of np.ndarray is not recommended because it will generate extra copies and increase memory consumption\n",
      "  warnings.warn(\n"
     ]
    }
   ],
   "source": [
    "dqn_solver.experience_replay()"
   ]
  },
  {
   "cell_type": "code",
   "execution_count": 309,
   "id": "fac1fd02",
   "metadata": {},
   "outputs": [],
   "source": [
    "m =  dqn_solver.model"
   ]
  },
  {
   "cell_type": "code",
   "execution_count": 324,
   "id": "8e4523d4",
   "metadata": {},
   "outputs": [],
   "source": [
    "%matplotlib inline\n",
    "\n",
    "import matplotlib\n",
    "import numpy as np\n",
    "import matplotlib.pyplot as plt\n",
    "\n",
    "input_sample = []\n",
    "x_samples = np.arange(-2,2,0.02)\n",
    "delta_samples = np.arange(-2,2,0.02)\n",
    "for x in x_samples:\n",
    "  for delta in delta_samples:\n",
    "    input_sample.append([x,0,delta,0])\n",
    "\n",
    "model_prediction = m.predict(np.array(input_sample))"
   ]
  },
  {
   "cell_type": "code",
   "execution_count": 325,
   "id": "dc69d9c7",
   "metadata": {},
   "outputs": [],
   "source": [
    "lv = model_prediction[:,0].reshape(len(x_samples),len(delta_samples))"
   ]
  },
  {
   "cell_type": "code",
   "execution_count": 326,
   "id": "4683e68e",
   "metadata": {},
   "outputs": [
    {
     "data": {
      "image/png": "[encoded data removed]",
      "text/plain": [
       "<Figure size 432x288 with 2 Axes>"
      ]
     },
     "metadata": {
      "needs_background": "light"
     },
     "output_type": "display_data"
    }
   ],
   "source": [
    "import seaborn as sns\n",
    "fig, ax = plt.subplots()\n",
    "# im = ax.imshow(lv)\n",
    "ax = sns.heatmap(lv,)\n",
    "plt.show()"
   ]
  },
  {
   "cell_type": "code",
   "execution_count": 202,
   "id": "63a7fb50",
   "metadata": {},
   "outputs": [
    {
     "data": {
      "text/plain": [
       "(1.0,\n",
       " False,\n",
       " array([ 0.00372083,  0.24386603,  0.04308591, -0.27942312], dtype=float32))"
      ]
     },
     "execution_count": 202,
     "metadata": {},
     "output_type": "execute_result"
    }
   ],
   "source": [
    "state_next = np.reshape(state_next, [1, observation_space])\n",
    "action = dqn_solver.act(state_next)\n",
    "state_next, reward, terminal, info = env.step(action)\n",
    "env.render()\n",
    "reward, terminal, state_next"
   ]
  },
  {
   "cell_type": "code",
   "execution_count": 201,
   "id": "ead81a57",
   "metadata": {},
   "outputs": [],
   "source": [
    "state_next = env.reset()"
   ]
  },
  {
   "cell_type": "code",
   "execution_count": 346,
   "id": "5c7f72e5",
   "metadata": {},
   "outputs": [
    {
     "data": {
      "text/plain": [
       "array([ 0.09413128,  0.43841866, -0.05099776, -0.5771346 ], dtype=float32)"
      ]
     },
     "execution_count": 346,
     "metadata": {},
     "output_type": "execute_result"
    }
   ],
   "source": [
    "state_next"
   ]
  }
 ],
 "metadata": {
  "kernelspec": {
   "display_name": "Python 3 (ipykernel)",
   "language": "python",
   "name": "python3"
  },
  "language_info": {
   "codemirror_mode": {
    "name": "ipython",
    "version": 3
   },
   "file_extension": ".py",
   "mimetype": "text/x-python",
   "name": "python",
   "nbconvert_exporter": "python",
   "pygments_lexer": "ipython3",
   "version": "3.9.0"
  }
 },
 "nbformat": 4,
 "nbformat_minor": 5
}
